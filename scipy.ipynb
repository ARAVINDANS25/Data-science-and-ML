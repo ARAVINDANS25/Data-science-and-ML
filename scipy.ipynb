{
 "cells": [
  {
   "cell_type": "code",
   "execution_count": 1,
   "id": "74b9019a",
   "metadata": {},
   "outputs": [
    {
     "name": "stdout",
     "output_type": "stream",
     "text": [
      "1.6.2\n"
     ]
    }
   ],
   "source": [
    "import scipy \n",
    "print(scipy.__version__)"
   ]
  },
  {
   "cell_type": "code",
   "execution_count": 3,
   "id": "b829a3cb",
   "metadata": {},
   "outputs": [
    {
     "name": "stdout",
     "output_type": "stream",
     "text": [
      "3.141592653589793\n"
     ]
    }
   ],
   "source": [
    "from scipy import constants\n",
    "print(constants.pi)"
   ]
  },
  {
   "cell_type": "code",
   "execution_count": 4,
   "id": "d7337903",
   "metadata": {},
   "outputs": [
    {
     "name": "stdout",
     "output_type": "stream",
     "text": [
      "['Avogadro', 'Boltzmann', 'Btu', 'Btu_IT', 'Btu_th', 'ConstantWarning', 'G', 'Julian_year', 'N_A', 'Planck', 'R', 'Rydberg', 'Stefan_Boltzmann', 'Wien', '__all__', '__builtins__', '__cached__', '__doc__', '__file__', '__loader__', '__name__', '__package__', '__path__', '__spec__', '_obsolete_constants', 'acre', 'alpha', 'angstrom', 'arcmin', 'arcminute', 'arcsec', 'arcsecond', 'astronomical_unit', 'atm', 'atmosphere', 'atomic_mass', 'atto', 'au', 'bar', 'barrel', 'bbl', 'blob', 'c', 'calorie', 'calorie_IT', 'calorie_th', 'carat', 'centi', 'codata', 'constants', 'convert_temperature', 'day', 'deci', 'degree', 'degree_Fahrenheit', 'deka', 'dyn', 'dyne', 'e', 'eV', 'electron_mass', 'electron_volt', 'elementary_charge', 'epsilon_0', 'erg', 'exa', 'exbi', 'femto', 'fermi', 'find', 'fine_structure', 'fluid_ounce', 'fluid_ounce_US', 'fluid_ounce_imp', 'foot', 'g', 'gallon', 'gallon_US', 'gallon_imp', 'gas_constant', 'gibi', 'giga', 'golden', 'golden_ratio', 'grain', 'gram', 'gravitational_constant', 'h', 'hbar', 'hectare', 'hecto', 'horsepower', 'hour', 'hp', 'inch', 'k', 'kgf', 'kibi', 'kilo', 'kilogram_force', 'kmh', 'knot', 'lambda2nu', 'lb', 'lbf', 'light_year', 'liter', 'litre', 'long_ton', 'm_e', 'm_n', 'm_p', 'm_u', 'mach', 'mebi', 'mega', 'metric_ton', 'micro', 'micron', 'mil', 'mile', 'milli', 'minute', 'mmHg', 'mph', 'mu_0', 'nano', 'nautical_mile', 'neutron_mass', 'nu2lambda', 'ounce', 'oz', 'parsec', 'pebi', 'peta', 'physical_constants', 'pi', 'pico', 'point', 'pound', 'pound_force', 'precision', 'proton_mass', 'psi', 'pt', 'short_ton', 'sigma', 'slinch', 'slug', 'speed_of_light', 'speed_of_sound', 'stone', 'survey_foot', 'survey_mile', 'tebi', 'tera', 'test', 'ton_TNT', 'torr', 'troy_ounce', 'troy_pound', 'u', 'unit', 'value', 'week', 'yard', 'year', 'yobi', 'yotta', 'zebi', 'zepto', 'zero_Celsius', 'zetta']\n"
     ]
    }
   ],
   "source": [
    "from scipy import constants\n",
    "print(dir(constants))"
   ]
  },
  {
   "cell_type": "code",
   "execution_count": 5,
   "id": "93f2b6d6",
   "metadata": {},
   "outputs": [
    {
     "name": "stdout",
     "output_type": "stream",
     "text": [
      "1e+21\n"
     ]
    }
   ],
   "source": [
    "from scipy import constants\n",
    "print(constants.zetta)"
   ]
  },
  {
   "cell_type": "code",
   "execution_count": 10,
   "id": "c4f33fac",
   "metadata": {},
   "outputs": [
    {
     "name": "stdout",
     "output_type": "stream",
     "text": [
      "  (0, 5)\t2\n",
      "  (0, 7)\t1\n",
      "  (0, 8)\t4\n"
     ]
    }
   ],
   "source": [
    "import numpy as np\n",
    "from scipy.sparse import csr_matrix\n",
    "arr=np.array([0,0,0,0,0,2,0,1,4])\n",
    "print(csr_matrix(arr))"
   ]
  },
  {
   "cell_type": "code",
   "execution_count": 13,
   "id": "dda7323c",
   "metadata": {},
   "outputs": [
    {
     "name": "stdout",
     "output_type": "stream",
     "text": [
      "[1 1 2 3]\n"
     ]
    }
   ],
   "source": [
    "import numpy as np\n",
    "from scipy.sparse import csr_matrix\n",
    "arr=np.array([[0,0,1],[0,0,1],[2,0,3]])\n",
    "print(csr_matrix(arr).data)"
   ]
  },
  {
   "cell_type": "code",
   "execution_count": 15,
   "id": "5ea79878",
   "metadata": {},
   "outputs": [
    {
     "name": "stdout",
     "output_type": "stream",
     "text": [
      "  (0, 2)\t1\n",
      "  (1, 2)\t1\n",
      "  (2, 0)\t2\n",
      "  (2, 2)\t3\n"
     ]
    }
   ],
   "source": [
    "import numpy as np\n",
    "from scipy.sparse import csr_matrix\n",
    "arr=np.array([[0,0,1],[0,0,1],[2,0,3]])\n",
    "print(csr_matrix(arr))"
   ]
  },
  {
   "cell_type": "code",
   "execution_count": 17,
   "id": "5a76a21a",
   "metadata": {},
   "outputs": [
    {
     "name": "stdout",
     "output_type": "stream",
     "text": [
      "4\n"
     ]
    }
   ],
   "source": [
    "import numpy as np\n",
    "from scipy.sparse import csr_matrix\n",
    "arr=np.array([[0,0,1],[0,0,1],[2,0,3]])\n",
    "print(csr_matrix(arr).count_nonzero())"
   ]
  },
  {
   "cell_type": "code",
   "execution_count": 23,
   "id": "e01fb2f3",
   "metadata": {},
   "outputs": [
    {
     "name": "stdout",
     "output_type": "stream",
     "text": [
      "  (0, 2)\t1\n",
      "  (1, 2)\t1\n",
      "  (2, 0)\t2\n",
      "  (2, 2)\t3\n"
     ]
    }
   ],
   "source": [
    "import numpy as np\n",
    "from scipy.sparse import csr_matrix\n",
    "arr=np.array([[0,0,1],[0,0,1],[2,0,3]])\n",
    "mat=csr_matrix(arr)\n",
    "mat.eliminate_zeros()\n",
    "print(mat)"
   ]
  },
  {
   "cell_type": "code",
   "execution_count": 24,
   "id": "25293228",
   "metadata": {},
   "outputs": [
    {
     "name": "stdout",
     "output_type": "stream",
     "text": [
      "  (0, 2)\t1\n",
      "  (1, 2)\t1\n",
      "  (2, 0)\t2\n",
      "  (2, 2)\t3\n"
     ]
    }
   ],
   "source": [
    "import numpy as np\n",
    "from scipy.sparse import csr_matrix\n",
    "arr=np.array([[0,0,1],[0,0,1],[2,0,3]])\n",
    "mat=csr_matrix(arr)\n",
    "mat.sum_duplicates()\n",
    "print(mat)"
   ]
  },
  {
   "cell_type": "code",
   "execution_count": 25,
   "id": "9a1b3a85",
   "metadata": {},
   "outputs": [
    {
     "name": "stdout",
     "output_type": "stream",
     "text": [
      "  (2, 0)\t2\n",
      "  (0, 2)\t1\n",
      "  (1, 2)\t1\n",
      "  (2, 2)\t3\n"
     ]
    }
   ],
   "source": [
    "import numpy as np\n",
    "from scipy.sparse import csr_matrix\n",
    "arr=np.array([[0,0,1],[0,0,1],[2,0,3]])\n",
    "newarr=csr_matrix(arr).tocsc()\n",
    "print(newarr)"
   ]
  },
  {
   "cell_type": "markdown",
   "id": "74d0e157",
   "metadata": {},
   "source": [
    "dfs"
   ]
  },
  {
   "cell_type": "code",
   "execution_count": 21,
   "id": "3904d5ac",
   "metadata": {},
   "outputs": [
    {
     "name": "stdout",
     "output_type": "stream",
     "text": [
      "0\n",
      "1\n",
      "2\n",
      "3\n",
      "5\n",
      "4\n",
      "4\n",
      "2\n",
      "3\n"
     ]
    },
    {
     "data": {
      "text/plain": [
       "{'0', '1', '2', '3', '4', '5'}"
      ]
     },
     "execution_count": 21,
     "metadata": {},
     "output_type": "execute_result"
    }
   ],
   "source": [
    "def dfs(graph,start,visited=None):\n",
    "    if visited is None:\n",
    "         visited =set()\n",
    "    visited.add(start)\n",
    "    print(start)\n",
    "    for next in graph[start]-visited:\n",
    "        dfs(graph,next,visited)\n",
    "    return visited\n",
    "graph={'0':set(['1','2','3']),\n",
    "        '1':set(['2','4']),\n",
    "        '2':set(['3','1']),\n",
    "        '3':set(['5','2']),\n",
    "        '4':set(['2','5']),\n",
    "        '5':set(['4','3'])}\n",
    "dfs(graph,'0')"
   ]
  },
  {
   "cell_type": "code",
   "execution_count": 39,
   "id": "ce2771fe",
   "metadata": {},
   "outputs": [
    {
     "name": "stdout",
     "output_type": "stream",
     "text": [
      "A B C D E F "
     ]
    }
   ],
   "source": [
    "graph ={\n",
    "    'A':['B','C'],\n",
    "    'B':['D','E'],\n",
    "    'C':['F'],\n",
    "    'D':[ ],\n",
    "    'E':['F'],\n",
    "    'F':[]\n",
    " }\n",
    "visited=[]\n",
    "Queue=[]\n",
    "\n",
    "def bfs(visited,graph,node):\n",
    "  visited.append(node)\n",
    "  queue.append(node)\n",
    "  while queue:\n",
    "    s=queue.pop(0)\n",
    "    print(s,end=\" \")\n",
    "    for neighbour in graph[s]:\n",
    "      if neighbour not in visited:\n",
    "        visited.append(neighbour)\n",
    "        queue.append(neighbour)\n",
    "bfs(visited,graph,'A')"
   ]
  },
  {
   "cell_type": "markdown",
   "id": "8d523450",
   "metadata": {},
   "source": [
    "DIJKSTRA"
   ]
  },
  {
   "cell_type": "code",
   "execution_count": 54,
   "id": "c732d991",
   "metadata": {},
   "outputs": [
    {
     "name": "stdout",
     "output_type": "stream",
     "text": [
      "['a', 'b', 'e']\n"
     ]
    }
   ],
   "source": [
    "import networkx as nx\n",
    "G=nx.Graph()\n",
    "e=[('a','b',1),('b','c',2),('c','d',4),('d','e',2),('b','e',1)]\n",
    "G.add_weighted_edges_from(e)\n",
    "print(nx.dijkstra_path(G,'a','e'))\n"
   ]
  },
  {
   "cell_type": "code",
   "execution_count": 53,
   "id": "6563b00e",
   "metadata": {},
   "outputs": [
    {
     "name": "stdout",
     "output_type": "stream",
     "text": [
      "['a', 'b', 'e']\n"
     ]
    }
   ],
   "source": [
    "import networkx as nx\n",
    "G=nx.Graph()\n",
    "e=[('a','b',1),('b','c',2),('c','d',4),('d','e',2),('b','e',1)]\n",
    "G.add_weighted_edges_from(e)\n",
    "print(nx.dijkstra_path(G,'a','e'))"
   ]
  },
  {
   "cell_type": "markdown",
   "id": "3e95499a",
   "metadata": {},
   "source": [
    "short distance"
   ]
  },
  {
   "cell_type": "code",
   "execution_count": 1,
   "id": "92c248b1",
   "metadata": {},
   "outputs": [
    {
     "name": "stdout",
     "output_type": "stream",
     "text": [
      "39.66106403010388\n"
     ]
    }
   ],
   "source": [
    "from scipy.spatial.distance import euclidean\n",
    "x=(22,33,44,55)\n",
    "y=(22,33,66,88)\n",
    "n=euclidean(x,y)\n",
    "print(n)"
   ]
  },
  {
   "cell_type": "code",
   "execution_count": 3,
   "id": "851e3436",
   "metadata": {},
   "outputs": [
    {
     "name": "stdout",
     "output_type": "stream",
     "text": [
      "4\n"
     ]
    }
   ],
   "source": [
    "from scipy.spatial.distance import cityblock\n",
    "x=(3,4,5,6)\n",
    "y=(4,5,6,7)\n",
    "n=cityblock(x,y)\n",
    "print(n)"
   ]
  },
  {
   "cell_type": "code",
   "execution_count": 7,
   "id": "be24b913",
   "metadata": {},
   "outputs": [
    {
     "name": "stdout",
     "output_type": "stream",
     "text": [
      "1.0\n"
     ]
    }
   ],
   "source": [
    "from scipy.spatial.distance import hamming\n",
    "x=(\"aravi\")\n",
    "y=(\"rovin\")\n",
    "n=hamming(x,y)\n",
    "print(n)"
   ]
  },
  {
   "cell_type": "code",
   "execution_count": 8,
   "id": "89b12a54",
   "metadata": {},
   "outputs": [
    {
     "name": "stdout",
     "output_type": "stream",
     "text": [
      "0.4\n"
     ]
    }
   ],
   "source": [
    "from scipy.spatial.distance import hamming\n",
    "x=(1,1,0,0,1)\n",
    "y=(0,1,1,0,1)\n",
    "n=hamming(x,y)\n",
    "print(n)"
   ]
  },
  {
   "cell_type": "code",
   "execution_count": 9,
   "id": "fe280d55",
   "metadata": {},
   "outputs": [
    {
     "name": "stdout",
     "output_type": "stream",
     "text": [
      "0.09565080627617761\n"
     ]
    }
   ],
   "source": [
    "from scipy.spatial.distance import cosine\n",
    "x=(1,3,4,6,1)\n",
    "y=(0,4,7,4,1)\n",
    "n=cosine(x,y)\n",
    "print(n)"
   ]
  },
  {
   "cell_type": "code",
   "execution_count": null,
   "id": "7f58e097",
   "metadata": {},
   "outputs": [],
   "source": []
  }
 ],
 "metadata": {
  "kernelspec": {
   "display_name": "Python 3",
   "language": "python",
   "name": "python3"
  },
  "language_info": {
   "codemirror_mode": {
    "name": "ipython",
    "version": 3
   },
   "file_extension": ".py",
   "mimetype": "text/x-python",
   "name": "python",
   "nbconvert_exporter": "python",
   "pygments_lexer": "ipython3",
   "version": "3.8.8"
  }
 },
 "nbformat": 4,
 "nbformat_minor": 5
}
