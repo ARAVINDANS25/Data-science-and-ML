{
 "cells": [
  {
   "cell_type": "code",
   "execution_count": 1,
   "id": "d14b34fc",
   "metadata": {},
   "outputs": [],
   "source": [
    "from sklearn.cluster import KMeans\n",
    "import pandas as pd\n",
    "from sklearn.preprocessing import MinMaxScaler\n",
    "from matplotlib import pyplot as plt\n",
    "%matplotlib inline"
   ]
  },
  {
   "cell_type": "code",
   "execution_count": 2,
   "id": "75ff3b35",
   "metadata": {},
   "outputs": [
    {
     "name": "stdout",
     "output_type": "stream",
     "text": [
      "     Age  Total_Bilirubin  Direct_Bilirubin  Alkaline_Phosphotase  \\\n",
      "0     65              0.7               0.1                   187   \n",
      "1     62             10.9               5.5                   699   \n",
      "2     62              7.3               4.1                   490   \n",
      "3     58              1.0               0.4                   182   \n",
      "4     72              3.9               2.0                   195   \n",
      "..   ...              ...               ...                   ...   \n",
      "578   60              0.5               0.1                   500   \n",
      "579   40              0.6               0.1                    98   \n",
      "580   52              0.8               0.2                   245   \n",
      "581   31              1.3               0.5                   184   \n",
      "582   38              1.0               0.3                   216   \n",
      "\n",
      "     Alamine_Aminotransferase  Aspartate_Aminotransferase  Total_Protiens  \\\n",
      "0                          16                          18             6.8   \n",
      "1                          64                         100             7.5   \n",
      "2                          60                          68             7.0   \n",
      "3                          14                          20             6.8   \n",
      "4                          27                          59             7.3   \n",
      "..                        ...                         ...             ...   \n",
      "578                        20                          34             5.9   \n",
      "579                        35                          31             6.0   \n",
      "580                        48                          49             6.4   \n",
      "581                        29                          32             6.8   \n",
      "582                        21                          24             7.3   \n",
      "\n",
      "     Albumin  Albumin_and_Globulin_Ratio  Dataset  \n",
      "0        3.3                        0.90        1  \n",
      "1        3.2                        0.74        1  \n",
      "2        3.3                        0.89        1  \n",
      "3        3.4                        1.00        1  \n",
      "4        2.4                        0.40        1  \n",
      "..       ...                         ...      ...  \n",
      "578      1.6                        0.37        2  \n",
      "579      3.2                        1.10        1  \n",
      "580      3.2                        1.00        1  \n",
      "581      3.4                        1.00        1  \n",
      "582      4.4                        1.50        2  \n",
      "\n",
      "[583 rows x 10 columns]\n"
     ]
    }
   ],
   "source": [
    "df=pd.read_csv(\"C:/Users/isysway laptop/Desktop/Python Level-2/Final Python Level-2 Materials/heart.csv\")\n",
    "print(df)"
   ]
  },
  {
   "cell_type": "code",
   "execution_count": 3,
   "id": "dffc98ba",
   "metadata": {},
   "outputs": [
    {
     "data": {
      "text/html": [
       "<div>\n",
       "<style scoped>\n",
       "    .dataframe tbody tr th:only-of-type {\n",
       "        vertical-align: middle;\n",
       "    }\n",
       "\n",
       "    .dataframe tbody tr th {\n",
       "        vertical-align: top;\n",
       "    }\n",
       "\n",
       "    .dataframe thead th {\n",
       "        text-align: right;\n",
       "    }\n",
       "</style>\n",
       "<table border=\"1\" class=\"dataframe\">\n",
       "  <thead>\n",
       "    <tr style=\"text-align: right;\">\n",
       "      <th></th>\n",
       "      <th>Age</th>\n",
       "      <th>Total_Bilirubin</th>\n",
       "      <th>Direct_Bilirubin</th>\n",
       "      <th>Alkaline_Phosphotase</th>\n",
       "      <th>Alamine_Aminotransferase</th>\n",
       "      <th>Aspartate_Aminotransferase</th>\n",
       "      <th>Total_Protiens</th>\n",
       "      <th>Albumin</th>\n",
       "      <th>Albumin_and_Globulin_Ratio</th>\n",
       "      <th>Dataset</th>\n",
       "    </tr>\n",
       "  </thead>\n",
       "  <tbody>\n",
       "    <tr>\n",
       "      <th>0</th>\n",
       "      <td>65</td>\n",
       "      <td>0.7</td>\n",
       "      <td>0.1</td>\n",
       "      <td>187</td>\n",
       "      <td>16</td>\n",
       "      <td>18</td>\n",
       "      <td>6.8</td>\n",
       "      <td>3.3</td>\n",
       "      <td>0.90</td>\n",
       "      <td>1</td>\n",
       "    </tr>\n",
       "    <tr>\n",
       "      <th>1</th>\n",
       "      <td>62</td>\n",
       "      <td>10.9</td>\n",
       "      <td>5.5</td>\n",
       "      <td>699</td>\n",
       "      <td>64</td>\n",
       "      <td>100</td>\n",
       "      <td>7.5</td>\n",
       "      <td>3.2</td>\n",
       "      <td>0.74</td>\n",
       "      <td>1</td>\n",
       "    </tr>\n",
       "    <tr>\n",
       "      <th>2</th>\n",
       "      <td>62</td>\n",
       "      <td>7.3</td>\n",
       "      <td>4.1</td>\n",
       "      <td>490</td>\n",
       "      <td>60</td>\n",
       "      <td>68</td>\n",
       "      <td>7.0</td>\n",
       "      <td>3.3</td>\n",
       "      <td>0.89</td>\n",
       "      <td>1</td>\n",
       "    </tr>\n",
       "    <tr>\n",
       "      <th>3</th>\n",
       "      <td>58</td>\n",
       "      <td>1.0</td>\n",
       "      <td>0.4</td>\n",
       "      <td>182</td>\n",
       "      <td>14</td>\n",
       "      <td>20</td>\n",
       "      <td>6.8</td>\n",
       "      <td>3.4</td>\n",
       "      <td>1.00</td>\n",
       "      <td>1</td>\n",
       "    </tr>\n",
       "    <tr>\n",
       "      <th>4</th>\n",
       "      <td>72</td>\n",
       "      <td>3.9</td>\n",
       "      <td>2.0</td>\n",
       "      <td>195</td>\n",
       "      <td>27</td>\n",
       "      <td>59</td>\n",
       "      <td>7.3</td>\n",
       "      <td>2.4</td>\n",
       "      <td>0.40</td>\n",
       "      <td>1</td>\n",
       "    </tr>\n",
       "  </tbody>\n",
       "</table>\n",
       "</div>"
      ],
      "text/plain": [
       "   Age  Total_Bilirubin  Direct_Bilirubin  Alkaline_Phosphotase  \\\n",
       "0   65              0.7               0.1                   187   \n",
       "1   62             10.9               5.5                   699   \n",
       "2   62              7.3               4.1                   490   \n",
       "3   58              1.0               0.4                   182   \n",
       "4   72              3.9               2.0                   195   \n",
       "\n",
       "   Alamine_Aminotransferase  Aspartate_Aminotransferase  Total_Protiens  \\\n",
       "0                        16                          18             6.8   \n",
       "1                        64                         100             7.5   \n",
       "2                        60                          68             7.0   \n",
       "3                        14                          20             6.8   \n",
       "4                        27                          59             7.3   \n",
       "\n",
       "   Albumin  Albumin_and_Globulin_Ratio  Dataset  \n",
       "0      3.3                        0.90        1  \n",
       "1      3.2                        0.74        1  \n",
       "2      3.3                        0.89        1  \n",
       "3      3.4                        1.00        1  \n",
       "4      2.4                        0.40        1  "
      ]
     },
     "execution_count": 3,
     "metadata": {},
     "output_type": "execute_result"
    }
   ],
   "source": [
    "df.head()"
   ]
  },
  {
   "cell_type": "code",
   "execution_count": 6,
   "id": "adddddd2",
   "metadata": {},
   "outputs": [
    {
     "data": {
      "text/plain": [
       "<matplotlib.collections.PathCollection at 0xbe740d0>"
      ]
     },
     "execution_count": 6,
     "metadata": {},
     "output_type": "execute_result"
    },
    {
     "data": {
      "image/png": "[encoded data removed]",
      "text/plain": [
       "<Figure size 432x288 with 1 Axes>"
      ]
     },
     "metadata": {
      "needs_background": "light"
     },
     "output_type": "display_data"
    }
   ],
   "source": [
    "plt.scatter(df[\"Age\"],df[\"Albumin\"])"
   ]
  },
  {
   "cell_type": "code",
   "execution_count": 4,
   "id": "5450a2f0",
   "metadata": {},
   "outputs": [
    {
     "name": "stdout",
     "output_type": "stream",
     "text": [
      "KMeans(n_clusters=2)\n"
     ]
    }
   ],
   "source": [
    "km=KMeans(n_clusters=2)\n",
    "print(km)"
   ]
  },
  {
   "cell_type": "code",
   "execution_count": 5,
   "id": "70e5fe5c",
   "metadata": {},
   "outputs": [
    {
     "name": "stdout",
     "output_type": "stream",
     "text": [
      "[0 0 0 0 0 0 1 1 1 0 0 0 0 0 0 1 1 1 1 1 0 0 0 1 0 1 1 1 1 0 0 0 0 1 1 1 1\n",
      " 0 0 0 0 0 1 0 0 1 1 1 1 0 0 1 1 1 1 1 1 0 0 0 1 0 0 0 0 0 0 1 0 0 1 0 0 0\n",
      " 0 1 1 0 0 0 0 1 0 1 1 1 1 0 1 0 0 0 0 0 0 0 1 1 1 1 1 1 1 0 0 1 1 1 1 1 1\n",
      " 0 1 0 0 0 0 1 1 1 1 1 0 0 1 0 0 0 0 0 0 0 1 0 1 0 0 1 1 1 0 0 1 1 0 0 0 0\n",
      " 0 0 0 0 0 0 1 1 1 0 0 0 0 0 0 1 1 0 0 0 0 0 0 0 0 1 1 1 0 0 0 0 0 0 0 1 0\n",
      " 1 0 0 0 0 0 0 0 0 0 0 0 1 1 1 0 0 1 1 1 0 1 1 0 0 1 1 1 1 1 0 0 0 1 1 1 0\n",
      " 0 0 0 1 1 0 0 0 0 0 0 1 1 0 1 1 1 1 0 0 1 1 0 0 0 0 1 1 1 1 0 1 1 1 0 0 1\n",
      " 1 1 1 1 1 1 1 0 1 1 1 1 1 1 1 1 1 1 0 0 0 0 0 0 1 1 1 1 1 0 0 0 0 0 1 1 1\n",
      " 0 1 1 1 0 0 0 0 0 0 0 1 0 0 0 0 1 1 1 1 0 1 1 1 1 1 1 1 0 1 1 1 1 1 1 1 1\n",
      " 1 1 1 0 0 0 0 0 1 1 0 1 0 0 1 0 0 1 1 1 0 0 1 1 1 1 0 1 0 0 1 1 1 1 0 1 0\n",
      " 0 1 0 1 0 0 1 1 0 0 0 1 0 0 1 0 1 0 0 0 0 0 1 1 0 0 0 0 1 1 0 0 1 0 1 1 0\n",
      " 1 0 0 1 1 0 0 0 0 0 1 0 0 0 1 1 0 1 0 0 0 0 0 0 0 1 1 1 1 1 1 0 1 0 1 1 1\n",
      " 0 1 0 0 0 0 0 1 0 0 1 1 1 0 1 0 1 1 1 1 0 0 1 1 0 0 0 0 1 1 1 1 1 0 1 1 1\n",
      " 0 0 1 0 1 1 1 0 0 0 1 1 0 1 1 1 0 0 0 0 1 1 0 1 1 0 0 0 0 1 0 0 0 0 0 0 1\n",
      " 0 1 0 0 0 0 1 0 0 1 0 0 1 1 0 0 1 0 0 1 0 0 1 1 0 1 0 0 0 0 1 1 0 1 0 0 0\n",
      " 0 0 0 0 1 0 0 0 0 1 1 0 0 1 1 1 0 1 1 1 1 1 1 0 1 0 1 1]\n"
     ]
    }
   ],
   "source": [
    "ypredicted=km.fit_predict(df[[\"Age\",\"Albumin\"]])\n",
    "print(ypredicted)"
   ]
  },
  {
   "cell_type": "code",
   "execution_count": 6,
   "id": "2a774ed9",
   "metadata": {},
   "outputs": [
    {
     "name": "stdout",
     "output_type": "stream",
     "text": [
      "   Age  Total_Bilirubin  Direct_Bilirubin  Alkaline_Phosphotase  \\\n",
      "0   65              0.7               0.1                   187   \n",
      "1   62             10.9               5.5                   699   \n",
      "2   62              7.3               4.1                   490   \n",
      "3   58              1.0               0.4                   182   \n",
      "4   72              3.9               2.0                   195   \n",
      "\n",
      "   Alamine_Aminotransferase  Aspartate_Aminotransferase  Total_Protiens  \\\n",
      "0                        16                          18             6.8   \n",
      "1                        64                         100             7.5   \n",
      "2                        60                          68             7.0   \n",
      "3                        14                          20             6.8   \n",
      "4                        27                          59             7.3   \n",
      "\n",
      "   Albumin  Albumin_and_Globulin_Ratio  Dataset  HeartDisease  \n",
      "0      3.3                        0.90        1             0  \n",
      "1      3.2                        0.74        1             0  \n",
      "2      3.3                        0.89        1             0  \n",
      "3      3.4                        1.00        1             0  \n",
      "4      2.4                        0.40        1             0  \n"
     ]
    }
   ],
   "source": [
    "df[\"HeartDisease\"]=ypredicted\n",
    "print(df.head())"
   ]
  },
  {
   "cell_type": "code",
   "execution_count": 7,
   "id": "6f76aa11",
   "metadata": {},
   "outputs": [
    {
     "name": "stderr",
     "output_type": "stream",
     "text": [
      "No handles with labels found to put in legend.\n"
     ]
    },
    {
     "data": {
      "text/plain": [
       "<matplotlib.legend.Legend at 0xbac1fa0>"
      ]
     },
     "execution_count": 7,
     "metadata": {},
     "output_type": "execute_result"
    },
    {
     "data": {
      "image/png": "[encoded data removed]",
      "text/plain": [
       "<Figure size 432x288 with 1 Axes>"
      ]
     },
     "metadata": {
      "needs_background": "light"
     },
     "output_type": "display_data"
    }
   ],
   "source": [
    "df1=df[df.HeartDisease==0]\n",
    "df2=df[df.HeartDisease==1]\n",
    "df3=df[df.HeartDisease==2]\n",
    "plt.scatter(df1.Age,df1[\"Albumin\"],color=\"gray\")\n",
    "plt.scatter(df2.Age,df2[\"Albumin\"],color=\"hotpink\")\n",
    "plt.scatter(df3.Age,df3[\"Albumin\"],color=\"black\")\n",
    "plt.xlabel(\"Age\")\n",
    "plt.ylabel(\"Albumin\")\n",
    "plt.legend()"
   ]
  },
  {
   "cell_type": "code",
   "execution_count": 8,
   "id": "8f6e4d11",
   "metadata": {
    "scrolled": true
   },
   "outputs": [
    {
     "ename": "ValueError",
     "evalue": "Expected 2D array, got 1D array instead:\narray=[3.3 3.2 3.3 3.4 2.4 4.4 3.5 3.6 4.1 3.4 2.7 3.  3.4 4.1 2.7 2.3 4.4 3.5\n 3.1 3.1 2.6 2.4 3.1 1.6 3.9 2.7 2.7 4.  1.9 3.2 1.5 2.9 2.9 3.  3.  3.3\n 3.9 2.  2.2 3.3 2.6 2.6 2.3 3.2 3.6 3.2 3.9 2.8 3.  1.8 2.5 3.4 3.9 3.5\n 2.  2.  4.  2.7 2.  3.2 3.  3.6 3.6 2.1 2.5 2.5 3.7 3.8 3.7 3.  3.  1.8\n 2.  3.6 2.9 2.5 2.3 2.1 3.8 1.6 1.8 2.9 2.8 3.  4.3 3.9 3.6 3.1 3.2 3.3\n 3.2 3.  3.  3.  2.9 2.2 3.3 1.7 3.1 3.7 1.6 2.3 4.2 3.3 2.5 2.6 2.6 2.2\n 2.2 2.8 2.3 2.2 3.3 2.  2.3 2.3 2.  3.3 2.8 2.6 3.5 2.8 3.5 3.1 4.1 1.7\n 2.8 3.2 3.9 2.3 2.7 2.5 3.5 2.9 3.6 2.4 2.5 2.5 2.5 3.7 3.3 2.2 2.7 2.7\n 2.9 2.9 1.8 2.8 4.5 4.  3.8 2.9 2.9 3.6 2.7 2.4 3.1 2.  2.  3.9 2.1 2.8\n 1.8 4.3 4.3 2.4 2.5 1.8 3.3 3.1 3.  3.3 1.6 3.7 3.7 4.  2.6 2.2 1.8 1.8\n 0.9 1.5 1.4 2.5 4.1 3.  3.2 1.6 1.8 2.5 3.7 3.5 3.5 3.1 3.  1.9 2.1 2.4\n 3.  2.  2.4 2.4 3.1 3.5 3.3 4.  2.9 3.8 2.8 3.9 2.4 3.2 3.1 3.4 3.6 3.3\n 3.2 4.3 2.  3.4 2.5 4.3 4.  4.5 3.1 4.  4.  3.8 2.6 3.  3.8 4.3 3.1 3.\n 3.5 2.  3.8 4.  4.7 3.1 4.  3.1 4.1 5.5 2.5 2.8 2.7 2.7 2.6 3.  3.  2.6\n 3.9 2.7 4.2 3.  3.5 3.  3.8 2.1 2.  3.9 4.  3.  4.3 4.  3.8 3.5 2.1 1.6\n 4.9 3.2 4.1 4.7 4.  4.1 3.6 2.8 4.  4.2 3.  4.2 3.4 2.1 4.  3.9 4.7 4.\n 3.7 4.  4.3 4.2 3.4 4.3 4.5 3.9 4.  4.4 3.8 4.1 4.4 3.2 3.5 4.2 3.8 3.7\n 2.4 2.3 4.1 4.2 4.6 3.5 4.8 4.5 4.3 3.7 3.7 3.4 4.5 4.2 3.4 2.8 3.9 3.5\n 2.7 3.1 4.4 3.9 2.9 4.1 2.7 2.2 2.9 3.1 4.  4.9 3.2 2.9 2.9 2.6 2.9 3.1\n 4.  2.  5.  2.  3.4 3.5 2.8 3.6 2.9 2.1 4.3 3.9 3.9 4.6 3.9 3.  2.6 4.9\n 3.3 2.9 2.9 4.4 3.5 2.4 4.1 2.9 3.9 4.  3.4 4.4 5.5 4.3 4.  3.4 3.7 3.\n 3.3 3.7 3.4 3.3 3.2 2.5 2.8 4.1 4.2 3.7 3.8 3.2 3.  3.7 3.1 4.  2.5 3.2\n 3.4 3.1 3.7 3.  3.2 1.6 4.  3.6 3.9 4.  3.7 3.7 3.6 3.3 1.9 2.9 2.9 2.1\n 2.2 2.7 2.7 4.2 3.  2.9 2.3 3.7 3.4 3.9 3.  2.5 2.5 3.  3.3 2.  1.9 2.9\n 4.6 3.8 3.6 4.5 3.1 2.5 1.4 3.1 4.3 1.8 1.9 3.2 2.8 4.  2.7 3.5 2.6 3.1\n 3.  3.2 3.5 3.  3.5 3.4 3.1 3.4 0.9 1.5 2.5 4.1 2.5 4.  1.4 2.  1.9 3.1\n 2.1 2.  4.1 2.9 2.4 3.9 2.7 4.1 2.7 2.4 3.6 3.2 4.2 4.  3.8 4.3 2.1 2.8\n 3.  2.9 3.5 3.2 3.6 3.9 3.3 1.8 3.9 3.  4.8 3.  4.  2.9 2.4 2.5 2.7 2.5\n 2.7 3.1 2.4 3.9 3.3 3.  4.6 3.4 2.6 3.  4.2 3.  3.  4.  3.6 2.  4.  2.1\n 3.7 2.6 3.7 3.9 2.8 3.4 2.1 1.8 3.8 2.7 3.2 1.  4.  2.  2.6 3.6 2.7 3.5\n 3.  3.  4.1 4.  3.2 2.2 2.3 2.3 2.8 4.9 2.4 3.  2.9 2.7 3.  3.  3.1 3.1\n 4.  2.6 2.2 2.  2.6 2.6 2.9 2.1 4.  1.7 3.5 4.  2.6 3.  4.  1.9 2.4 2.5\n 2.2 2.6 1.6 3.2 3.2 3.4 4.4].\nReshape your data either using array.reshape(-1, 1) if your data has a single feature or array.reshape(1, -1) if it contains a single sample.",
     "output_type": "error",
     "traceback": [
      "\u001b[1;31m---------------------------------------------------------------------------\u001b[0m",
      "\u001b[1;31mValueError\u001b[0m                                Traceback (most recent call last)",
      "\u001b[1;32m<ipython-input-8-76f397b122a0>\u001b[0m in \u001b[0;36m<module>\u001b[1;34m\u001b[0m\n\u001b[0;32m      1\u001b[0m \u001b[0mscaler\u001b[0m\u001b[1;33m=\u001b[0m\u001b[0mMinMaxScaler\u001b[0m\u001b[1;33m(\u001b[0m\u001b[1;33m)\u001b[0m\u001b[1;33m\u001b[0m\u001b[1;33m\u001b[0m\u001b[0m\n\u001b[0;32m      2\u001b[0m \u001b[0mscaler\u001b[0m\u001b[1;33m.\u001b[0m\u001b[0mfit\u001b[0m\u001b[1;33m(\u001b[0m\u001b[0mdf\u001b[0m\u001b[1;33m[\u001b[0m\u001b[1;33m[\u001b[0m\u001b[1;34m\"Albumin\"\u001b[0m\u001b[1;33m]\u001b[0m\u001b[1;33m]\u001b[0m\u001b[1;33m)\u001b[0m\u001b[1;33m\u001b[0m\u001b[1;33m\u001b[0m\u001b[0m\n\u001b[1;32m----> 3\u001b[1;33m \u001b[0mdf\u001b[0m\u001b[1;33m[\u001b[0m\u001b[1;34m\"Albumin\"\u001b[0m\u001b[1;33m]\u001b[0m\u001b[1;33m=\u001b[0m\u001b[0mscaler\u001b[0m\u001b[1;33m.\u001b[0m\u001b[0mtransform\u001b[0m\u001b[1;33m(\u001b[0m\u001b[0mdf\u001b[0m\u001b[1;33m[\u001b[0m\u001b[1;34m\"Albumin\"\u001b[0m\u001b[1;33m]\u001b[0m\u001b[1;33m)\u001b[0m\u001b[1;33m\u001b[0m\u001b[1;33m\u001b[0m\u001b[0m\n\u001b[0m\u001b[0;32m      4\u001b[0m \u001b[0mprint\u001b[0m\u001b[1;33m(\u001b[0m\u001b[0mdf\u001b[0m\u001b[1;33m)\u001b[0m\u001b[1;33m\u001b[0m\u001b[1;33m\u001b[0m\u001b[0m\n\u001b[0;32m      5\u001b[0m \u001b[0mscaler\u001b[0m\u001b[1;33m.\u001b[0m\u001b[0mfit\u001b[0m\u001b[1;33m(\u001b[0m\u001b[0mdf\u001b[0m\u001b[1;33m.\u001b[0m\u001b[0mAge\u001b[0m\u001b[1;33m)\u001b[0m\u001b[1;33m\u001b[0m\u001b[1;33m\u001b[0m\u001b[0m\n",
      "\u001b[1;32mD:\\anaconda sw\\lib\\site-packages\\sklearn\\preprocessing\\_data.py\u001b[0m in \u001b[0;36mtransform\u001b[1;34m(self, X)\u001b[0m\n\u001b[0;32m    432\u001b[0m         \u001b[0mcheck_is_fitted\u001b[0m\u001b[1;33m(\u001b[0m\u001b[0mself\u001b[0m\u001b[1;33m)\u001b[0m\u001b[1;33m\u001b[0m\u001b[1;33m\u001b[0m\u001b[0m\n\u001b[0;32m    433\u001b[0m \u001b[1;33m\u001b[0m\u001b[0m\n\u001b[1;32m--> 434\u001b[1;33m         X = self._validate_data(X, copy=self.copy, dtype=FLOAT_DTYPES,\n\u001b[0m\u001b[0;32m    435\u001b[0m                                 force_all_finite=\"allow-nan\", reset=False)\n\u001b[0;32m    436\u001b[0m \u001b[1;33m\u001b[0m\u001b[0m\n",
      "\u001b[1;32mD:\\anaconda sw\\lib\\site-packages\\sklearn\\base.py\u001b[0m in \u001b[0;36m_validate_data\u001b[1;34m(self, X, y, reset, validate_separately, **check_params)\u001b[0m\n\u001b[0;32m    419\u001b[0m             \u001b[0mout\u001b[0m \u001b[1;33m=\u001b[0m \u001b[0mX\u001b[0m\u001b[1;33m\u001b[0m\u001b[1;33m\u001b[0m\u001b[0m\n\u001b[0;32m    420\u001b[0m         \u001b[1;32melif\u001b[0m \u001b[0misinstance\u001b[0m\u001b[1;33m(\u001b[0m\u001b[0my\u001b[0m\u001b[1;33m,\u001b[0m \u001b[0mstr\u001b[0m\u001b[1;33m)\u001b[0m \u001b[1;32mand\u001b[0m \u001b[0my\u001b[0m \u001b[1;33m==\u001b[0m \u001b[1;34m'no_validation'\u001b[0m\u001b[1;33m:\u001b[0m\u001b[1;33m\u001b[0m\u001b[1;33m\u001b[0m\u001b[0m\n\u001b[1;32m--> 421\u001b[1;33m             \u001b[0mX\u001b[0m \u001b[1;33m=\u001b[0m \u001b[0mcheck_array\u001b[0m\u001b[1;33m(\u001b[0m\u001b[0mX\u001b[0m\u001b[1;33m,\u001b[0m \u001b[1;33m**\u001b[0m\u001b[0mcheck_params\u001b[0m\u001b[1;33m)\u001b[0m\u001b[1;33m\u001b[0m\u001b[1;33m\u001b[0m\u001b[0m\n\u001b[0m\u001b[0;32m    422\u001b[0m             \u001b[0mout\u001b[0m \u001b[1;33m=\u001b[0m \u001b[0mX\u001b[0m\u001b[1;33m\u001b[0m\u001b[1;33m\u001b[0m\u001b[0m\n\u001b[0;32m    423\u001b[0m         \u001b[1;32melse\u001b[0m\u001b[1;33m:\u001b[0m\u001b[1;33m\u001b[0m\u001b[1;33m\u001b[0m\u001b[0m\n",
      "\u001b[1;32mD:\\anaconda sw\\lib\\site-packages\\sklearn\\utils\\validation.py\u001b[0m in \u001b[0;36minner_f\u001b[1;34m(*args, **kwargs)\u001b[0m\n\u001b[0;32m     61\u001b[0m             \u001b[0mextra_args\u001b[0m \u001b[1;33m=\u001b[0m \u001b[0mlen\u001b[0m\u001b[1;33m(\u001b[0m\u001b[0margs\u001b[0m\u001b[1;33m)\u001b[0m \u001b[1;33m-\u001b[0m \u001b[0mlen\u001b[0m\u001b[1;33m(\u001b[0m\u001b[0mall_args\u001b[0m\u001b[1;33m)\u001b[0m\u001b[1;33m\u001b[0m\u001b[1;33m\u001b[0m\u001b[0m\n\u001b[0;32m     62\u001b[0m             \u001b[1;32mif\u001b[0m \u001b[0mextra_args\u001b[0m \u001b[1;33m<=\u001b[0m \u001b[1;36m0\u001b[0m\u001b[1;33m:\u001b[0m\u001b[1;33m\u001b[0m\u001b[1;33m\u001b[0m\u001b[0m\n\u001b[1;32m---> 63\u001b[1;33m                 \u001b[1;32mreturn\u001b[0m \u001b[0mf\u001b[0m\u001b[1;33m(\u001b[0m\u001b[1;33m*\u001b[0m\u001b[0margs\u001b[0m\u001b[1;33m,\u001b[0m \u001b[1;33m**\u001b[0m\u001b[0mkwargs\u001b[0m\u001b[1;33m)\u001b[0m\u001b[1;33m\u001b[0m\u001b[1;33m\u001b[0m\u001b[0m\n\u001b[0m\u001b[0;32m     64\u001b[0m \u001b[1;33m\u001b[0m\u001b[0m\n\u001b[0;32m     65\u001b[0m             \u001b[1;31m# extra_args > 0\u001b[0m\u001b[1;33m\u001b[0m\u001b[1;33m\u001b[0m\u001b[1;33m\u001b[0m\u001b[0m\n",
      "\u001b[1;32mD:\\anaconda sw\\lib\\site-packages\\sklearn\\utils\\validation.py\u001b[0m in \u001b[0;36mcheck_array\u001b[1;34m(array, accept_sparse, accept_large_sparse, dtype, order, copy, force_all_finite, ensure_2d, allow_nd, ensure_min_samples, ensure_min_features, estimator)\u001b[0m\n\u001b[0;32m    635\u001b[0m             \u001b[1;31m# If input is 1D raise error\u001b[0m\u001b[1;33m\u001b[0m\u001b[1;33m\u001b[0m\u001b[1;33m\u001b[0m\u001b[0m\n\u001b[0;32m    636\u001b[0m             \u001b[1;32mif\u001b[0m \u001b[0marray\u001b[0m\u001b[1;33m.\u001b[0m\u001b[0mndim\u001b[0m \u001b[1;33m==\u001b[0m \u001b[1;36m1\u001b[0m\u001b[1;33m:\u001b[0m\u001b[1;33m\u001b[0m\u001b[1;33m\u001b[0m\u001b[0m\n\u001b[1;32m--> 637\u001b[1;33m                 raise ValueError(\n\u001b[0m\u001b[0;32m    638\u001b[0m                     \u001b[1;34m\"Expected 2D array, got 1D array instead:\\narray={}.\\n\"\u001b[0m\u001b[1;33m\u001b[0m\u001b[1;33m\u001b[0m\u001b[0m\n\u001b[0;32m    639\u001b[0m                     \u001b[1;34m\"Reshape your data either using array.reshape(-1, 1) if \"\u001b[0m\u001b[1;33m\u001b[0m\u001b[1;33m\u001b[0m\u001b[0m\n",
      "\u001b[1;31mValueError\u001b[0m: Expected 2D array, got 1D array instead:\narray=[3.3 3.2 3.3 3.4 2.4 4.4 3.5 3.6 4.1 3.4 2.7 3.  3.4 4.1 2.7 2.3 4.4 3.5\n 3.1 3.1 2.6 2.4 3.1 1.6 3.9 2.7 2.7 4.  1.9 3.2 1.5 2.9 2.9 3.  3.  3.3\n 3.9 2.  2.2 3.3 2.6 2.6 2.3 3.2 3.6 3.2 3.9 2.8 3.  1.8 2.5 3.4 3.9 3.5\n 2.  2.  4.  2.7 2.  3.2 3.  3.6 3.6 2.1 2.5 2.5 3.7 3.8 3.7 3.  3.  1.8\n 2.  3.6 2.9 2.5 2.3 2.1 3.8 1.6 1.8 2.9 2.8 3.  4.3 3.9 3.6 3.1 3.2 3.3\n 3.2 3.  3.  3.  2.9 2.2 3.3 1.7 3.1 3.7 1.6 2.3 4.2 3.3 2.5 2.6 2.6 2.2\n 2.2 2.8 2.3 2.2 3.3 2.  2.3 2.3 2.  3.3 2.8 2.6 3.5 2.8 3.5 3.1 4.1 1.7\n 2.8 3.2 3.9 2.3 2.7 2.5 3.5 2.9 3.6 2.4 2.5 2.5 2.5 3.7 3.3 2.2 2.7 2.7\n 2.9 2.9 1.8 2.8 4.5 4.  3.8 2.9 2.9 3.6 2.7 2.4 3.1 2.  2.  3.9 2.1 2.8\n 1.8 4.3 4.3 2.4 2.5 1.8 3.3 3.1 3.  3.3 1.6 3.7 3.7 4.  2.6 2.2 1.8 1.8\n 0.9 1.5 1.4 2.5 4.1 3.  3.2 1.6 1.8 2.5 3.7 3.5 3.5 3.1 3.  1.9 2.1 2.4\n 3.  2.  2.4 2.4 3.1 3.5 3.3 4.  2.9 3.8 2.8 3.9 2.4 3.2 3.1 3.4 3.6 3.3\n 3.2 4.3 2.  3.4 2.5 4.3 4.  4.5 3.1 4.  4.  3.8 2.6 3.  3.8 4.3 3.1 3.\n 3.5 2.  3.8 4.  4.7 3.1 4.  3.1 4.1 5.5 2.5 2.8 2.7 2.7 2.6 3.  3.  2.6\n 3.9 2.7 4.2 3.  3.5 3.  3.8 2.1 2.  3.9 4.  3.  4.3 4.  3.8 3.5 2.1 1.6\n 4.9 3.2 4.1 4.7 4.  4.1 3.6 2.8 4.  4.2 3.  4.2 3.4 2.1 4.  3.9 4.7 4.\n 3.7 4.  4.3 4.2 3.4 4.3 4.5 3.9 4.  4.4 3.8 4.1 4.4 3.2 3.5 4.2 3.8 3.7\n 2.4 2.3 4.1 4.2 4.6 3.5 4.8 4.5 4.3 3.7 3.7 3.4 4.5 4.2 3.4 2.8 3.9 3.5\n 2.7 3.1 4.4 3.9 2.9 4.1 2.7 2.2 2.9 3.1 4.  4.9 3.2 2.9 2.9 2.6 2.9 3.1\n 4.  2.  5.  2.  3.4 3.5 2.8 3.6 2.9 2.1 4.3 3.9 3.9 4.6 3.9 3.  2.6 4.9\n 3.3 2.9 2.9 4.4 3.5 2.4 4.1 2.9 3.9 4.  3.4 4.4 5.5 4.3 4.  3.4 3.7 3.\n 3.3 3.7 3.4 3.3 3.2 2.5 2.8 4.1 4.2 3.7 3.8 3.2 3.  3.7 3.1 4.  2.5 3.2\n 3.4 3.1 3.7 3.  3.2 1.6 4.  3.6 3.9 4.  3.7 3.7 3.6 3.3 1.9 2.9 2.9 2.1\n 2.2 2.7 2.7 4.2 3.  2.9 2.3 3.7 3.4 3.9 3.  2.5 2.5 3.  3.3 2.  1.9 2.9\n 4.6 3.8 3.6 4.5 3.1 2.5 1.4 3.1 4.3 1.8 1.9 3.2 2.8 4.  2.7 3.5 2.6 3.1\n 3.  3.2 3.5 3.  3.5 3.4 3.1 3.4 0.9 1.5 2.5 4.1 2.5 4.  1.4 2.  1.9 3.1\n 2.1 2.  4.1 2.9 2.4 3.9 2.7 4.1 2.7 2.4 3.6 3.2 4.2 4.  3.8 4.3 2.1 2.8\n 3.  2.9 3.5 3.2 3.6 3.9 3.3 1.8 3.9 3.  4.8 3.  4.  2.9 2.4 2.5 2.7 2.5\n 2.7 3.1 2.4 3.9 3.3 3.  4.6 3.4 2.6 3.  4.2 3.  3.  4.  3.6 2.  4.  2.1\n 3.7 2.6 3.7 3.9 2.8 3.4 2.1 1.8 3.8 2.7 3.2 1.  4.  2.  2.6 3.6 2.7 3.5\n 3.  3.  4.1 4.  3.2 2.2 2.3 2.3 2.8 4.9 2.4 3.  2.9 2.7 3.  3.  3.1 3.1\n 4.  2.6 2.2 2.  2.6 2.6 2.9 2.1 4.  1.7 3.5 4.  2.6 3.  4.  1.9 2.4 2.5\n 2.2 2.6 1.6 3.2 3.2 3.4 4.4].\nReshape your data either using array.reshape(-1, 1) if your data has a single feature or array.reshape(1, -1) if it contains a single sample."
     ]
    }
   ],
   "source": [
    "scaler=MinMaxScaler()\n",
    "scaler.fit(df[[\"Albumin\"]])\n",
    "df[\"Albumin\"]=scaler.transform(df[\"Albumin\"])\n",
    "print(df)\n",
    "scaler.fit(df.Age)\n",
    "df.Age=scaler.transform(df.Age)\n",
    "print(df)"
   ]
  },
  {
   "cell_type": "code",
   "execution_count": 11,
   "id": "d0951f74",
   "metadata": {},
   "outputs": [
    {
     "name": "stdout",
     "output_type": "stream",
     "text": [
      "[0 0 0 0 0 0 1 1 1 0 0 0 0 0 0 1 1 1 1 1 0 0 0 1 0 1 1 1 1 0 0 0 0 1 1 1 1\n",
      " 0 0 0 0 0 1 0 0 1 1 1 1 0 0 1 1 1 1 1 1 0 0 0 1 0 0 0 0 0 0 1 0 0 1 0 0 0\n",
      " 0 1 1 0 0 0 0 1 0 1 1 1 1 0 1 0 0 0 0 0 0 0 1 1 1 1 1 1 1 0 0 1 1 1 1 1 1\n",
      " 0 1 0 0 0 0 1 1 1 1 1 0 0 1 0 0 0 0 0 0 0 1 0 1 0 0 1 1 1 0 0 1 1 0 0 0 0\n",
      " 0 0 0 0 0 0 1 1 1 0 0 0 0 0 0 1 1 0 0 0 0 0 0 0 0 1 1 1 0 0 0 0 0 0 0 1 0\n",
      " 1 0 0 0 0 0 0 0 0 0 0 0 1 1 1 0 0 1 1 1 0 1 1 0 0 1 1 1 1 1 0 0 0 1 1 1 0\n",
      " 0 0 0 1 1 0 0 0 0 0 0 1 1 0 1 1 1 1 0 0 1 1 0 0 0 0 1 1 1 1 0 1 1 1 0 0 1\n",
      " 1 1 1 1 1 1 1 0 1 1 1 1 1 1 1 1 1 1 0 0 0 0 0 0 1 1 1 1 1 0 0 0 0 0 1 1 1\n",
      " 0 1 1 1 0 0 0 0 0 0 0 1 0 0 0 0 1 1 1 1 0 1 1 1 1 1 1 1 0 1 1 1 1 1 1 1 1\n",
      " 1 1 1 0 0 0 0 0 1 1 0 1 0 0 1 0 0 1 1 1 0 0 1 1 1 1 0 1 0 0 1 1 1 1 0 1 0\n",
      " 0 1 0 1 0 0 1 1 0 0 0 1 0 0 1 0 1 0 0 0 0 0 1 1 0 0 0 0 1 1 0 0 1 0 1 1 0\n",
      " 1 0 0 1 1 0 0 0 0 0 1 0 0 0 1 1 0 1 0 0 0 0 0 0 0 1 1 1 1 1 1 0 1 0 1 1 1\n",
      " 0 1 0 0 0 0 0 1 0 0 1 1 1 0 1 0 1 1 1 1 0 0 1 1 0 0 0 0 1 1 1 1 1 0 1 1 1\n",
      " 0 0 1 0 1 1 1 0 0 0 1 1 0 1 1 1 0 0 0 0 1 1 0 1 1 0 0 0 0 1 0 0 0 0 0 0 1\n",
      " 0 1 0 0 0 0 1 0 0 1 0 0 1 1 0 0 1 0 0 1 0 0 1 1 0 1 0 0 0 0 1 1 0 1 0 0 0\n",
      " 0 0 0 0 1 0 0 0 0 1 1 0 0 1 1 1 0 1 1 1 1 1 1 0 1 0 1 1]\n"
     ]
    }
   ],
   "source": [
    "km=KMeans(n_clusters=2)\n",
    "ypredicted=km.fit_predict(df[[\"Age\",\"Albumin\"]])\n",
    "print(ypredicted)"
   ]
  },
  {
   "cell_type": "code",
   "execution_count": 12,
   "id": "b475fd15",
   "metadata": {},
   "outputs": [
    {
     "name": "stdout",
     "output_type": "stream",
     "text": [
      "     Age  Total_Bilirubin  Direct_Bilirubin  Alkaline_Phosphotase  \\\n",
      "0     65              0.7               0.1                   187   \n",
      "1     62             10.9               5.5                   699   \n",
      "2     62              7.3               4.1                   490   \n",
      "3     58              1.0               0.4                   182   \n",
      "4     72              3.9               2.0                   195   \n",
      "..   ...              ...               ...                   ...   \n",
      "578   60              0.5               0.1                   500   \n",
      "579   40              0.6               0.1                    98   \n",
      "580   52              0.8               0.2                   245   \n",
      "581   31              1.3               0.5                   184   \n",
      "582   38              1.0               0.3                   216   \n",
      "\n",
      "     Alamine_Aminotransferase  Aspartate_Aminotransferase  Total_Protiens  \\\n",
      "0                          16                          18             6.8   \n",
      "1                          64                         100             7.5   \n",
      "2                          60                          68             7.0   \n",
      "3                          14                          20             6.8   \n",
      "4                          27                          59             7.3   \n",
      "..                        ...                         ...             ...   \n",
      "578                        20                          34             5.9   \n",
      "579                        35                          31             6.0   \n",
      "580                        48                          49             6.4   \n",
      "581                        29                          32             6.8   \n",
      "582                        21                          24             7.3   \n",
      "\n",
      "     Albumin  Albumin_and_Globulin_Ratio  Dataset  \n",
      "0        3.3                        0.90        1  \n",
      "1        3.2                        0.74        1  \n",
      "2        3.3                        0.89        1  \n",
      "3        3.4                        1.00        1  \n",
      "4        2.4                        0.40        1  \n",
      "..       ...                         ...      ...  \n",
      "578      1.6                        0.37        2  \n",
      "579      3.2                        1.10        1  \n",
      "580      3.2                        1.00        1  \n",
      "581      3.4                        1.00        1  \n",
      "582      4.4                        1.50        2  \n",
      "\n",
      "[583 rows x 10 columns]\n"
     ]
    }
   ],
   "source": [
    "df[\"HeartDisease\"]=ypredicted\n",
    "df.drop(\"HeartDisease\",axis=\"columns\",inplace=True)\n",
    "print(df)"
   ]
  },
  {
   "cell_type": "code",
   "execution_count": 13,
   "id": "9a96cc73",
   "metadata": {},
   "outputs": [
    {
     "data": {
      "text/plain": [
       "array([[57.21864952,  2.98553055],\n",
       "       [30.48529412,  3.32058824]])"
      ]
     },
     "execution_count": 13,
     "metadata": {},
     "output_type": "execute_result"
    }
   ],
   "source": [
    "km.cluster_centers_"
   ]
  },
  {
   "cell_type": "code",
   "execution_count": 14,
   "id": "d5c3a9bd",
   "metadata": {},
   "outputs": [
    {
     "name": "stderr",
     "output_type": "stream",
     "text": [
      "D:\\anaconda sw\\lib\\site-packages\\sklearn\\cluster\\_kmeans.py:881: UserWarning: KMeans is known to have a memory leak on Windows with MKL, when there are less chunks than available threads. You can avoid it by setting the environment variable OMP_NUM_THREADS=3.\n",
      "  warnings.warn(\n"
     ]
    },
    {
     "name": "stdout",
     "output_type": "stream",
     "text": [
      "[152916.74761578062]\n",
      "[152916.74761578062, 49203.102602610204]\n",
      "[152916.74761578062, 49203.102602610204, 24352.188018005956]\n",
      "[152916.74761578062, 49203.102602610204, 24352.188018005956, 14781.912184959545]\n",
      "[152916.74761578062, 49203.102602610204, 24352.188018005956, 14781.912184959545, 9870.400988994405]\n",
      "[152916.74761578062, 49203.102602610204, 24352.188018005956, 14781.912184959545, 9870.400988994405, 7006.903701314266]\n",
      "[152916.74761578062, 49203.102602610204, 24352.188018005956, 14781.912184959545, 9870.400988994405, 7006.903701314266, 5530.735471663155]\n",
      "[152916.74761578062, 49203.102602610204, 24352.188018005956, 14781.912184959545, 9870.400988994405, 7006.903701314266, 5530.735471663155, 4258.163220761636]\n",
      "[152916.74761578062, 49203.102602610204, 24352.188018005956, 14781.912184959545, 9870.400988994405, 7006.903701314266, 5530.735471663155, 4258.163220761636, 3628.612291677824]\n"
     ]
    }
   ],
   "source": [
    "krange=range(1,10)\n",
    "a=[]\n",
    "for k in krange:\n",
    "    km=KMeans(n_clusters=k)\n",
    "    km.fit(df[[\"Age\",\"Albumin\"]])\n",
    "    a.append(km.inertia_)\n",
    "    print(a)"
   ]
  },
  {
   "cell_type": "code",
   "execution_count": 16,
   "id": "c3aae7b0",
   "metadata": {},
   "outputs": [
    {
     "data": {
      "text/plain": [
       "[<matplotlib.lines.Line2D at 0xa2aebe0>]"
      ]
     },
     "execution_count": 16,
     "metadata": {},
     "output_type": "execute_result"
    },
    {
     "data": {
      "image/png": "[encoded data removed]",
      "text/plain": [
       "<Figure size 432x288 with 1 Axes>"
      ]
     },
     "metadata": {
      "needs_background": "light"
     },
     "output_type": "display_data"
    }
   ],
   "source": [
    "plt.xlabel('K')\n",
    "plt.ylabel(\"Sum of Squared error\")\n",
    "plt.plot(krange,a)"
   ]
  },
  {
   "cell_type": "code",
   "execution_count": null,
   "id": "017fd5cf",
   "metadata": {},
   "outputs": [],
   "source": []
  }
 ],
 "metadata": {
  "kernelspec": {
   "display_name": "Python 3",
   "language": "python",
   "name": "python3"
  },
  "language_info": {
   "codemirror_mode": {
    "name": "ipython",
    "version": 3
   },
   "file_extension": ".py",
   "mimetype": "text/x-python",
   "name": "python",
   "nbconvert_exporter": "python",
   "pygments_lexer": "ipython3",
   "version": "3.8.8"
  }
 },
 "nbformat": 4,
 "nbformat_minor": 5
}
