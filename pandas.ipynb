{
 "cells": [
  {
   "cell_type": "markdown",
   "id": "2208d79b",
   "metadata": {},
   "source": [
    "pandas dataframe"
   ]
  },
  {
   "cell_type": "code",
   "execution_count": 13,
   "id": "19c140b1",
   "metadata": {},
   "outputs": [
    {
     "name": "stdout",
     "output_type": "stream",
     "text": [
      "{'car': ['bmw', 'ford', 'volvo'], 'ratings': [5, 4, 2]}\n"
     ]
    }
   ],
   "source": [
    "import pandas\n",
    "myset={\n",
    "    'car'    :[\"bmw\",\"ford\",\"volvo\"],\n",
    "    'ratings':[5,4,2]\n",
    "}\n",
    "#set=pandas.dataframe(myset)\n",
    "print(myset)"
   ]
  },
  {
   "cell_type": "code",
   "execution_count": 21,
   "id": "80b90c4f",
   "metadata": {},
   "outputs": [
    {
     "name": "stdout",
     "output_type": "stream",
     "text": [
      "     car  ratings\n",
      "0    bmw        5\n",
      "1   ford        4\n",
      "2  volvo        2\n"
     ]
    }
   ],
   "source": [
    "import pandas\n",
    "myset={\n",
    "    'car'    :[\"bmw\",\"ford\",\"volvo\"],\n",
    "    'ratings':[5,4,2]\n",
    "}\n",
    "a=pandas.DataFrame(myset)\n",
    "print(a)"
   ]
  },
  {
   "cell_type": "code",
   "execution_count": 22,
   "id": "e7e54aee",
   "metadata": {},
   "outputs": [
    {
     "name": "stdout",
     "output_type": "stream",
     "text": [
      "     car  ratings\n",
      "0    bmw        5\n",
      "1   ford        4\n",
      "2  volvo        2\n"
     ]
    }
   ],
   "source": [
    "import pandas as nd\n",
    "myset={\n",
    "    'car'    :[\"bmw\",\"ford\",\"volvo\"],\n",
    "    'ratings':[5,4,2]\n",
    "}\n",
    "a=pandas.DataFrame(myset)\n",
    "print(a)"
   ]
  },
  {
   "cell_type": "code",
   "execution_count": 24,
   "id": "e4b9c68f",
   "metadata": {},
   "outputs": [
    {
     "name": "stdout",
     "output_type": "stream",
     "text": [
      "1.2.4\n"
     ]
    }
   ],
   "source": [
    "import pandas as pd\n",
    "print(pd.__version__)"
   ]
  },
  {
   "cell_type": "code",
   "execution_count": 27,
   "id": "3796c74e",
   "metadata": {},
   "outputs": [
    {
     "name": "stdout",
     "output_type": "stream",
     "text": [
      "0    1\n",
      "1    2\n",
      "2    3\n",
      "dtype: int64\n"
     ]
    }
   ],
   "source": [
    "import pandas as pd\n",
    "a=[1,2,3]\n",
    "myset=pd.Series(a)\n",
    "print(myset)"
   ]
  },
  {
   "cell_type": "code",
   "execution_count": 29,
   "id": "15942bfe",
   "metadata": {},
   "outputs": [
    {
     "name": "stdout",
     "output_type": "stream",
     "text": [
      "2\n"
     ]
    }
   ],
   "source": [
    "import pandas as pd\n",
    "a=[1,2,3]\n",
    "myset=pd.Series(a)\n",
    "print(myset[1])"
   ]
  },
  {
   "cell_type": "code",
   "execution_count": 34,
   "id": "ead5e1af",
   "metadata": {},
   "outputs": [
    {
     "name": "stdout",
     "output_type": "stream",
     "text": [
      "x    1\n",
      "y    2\n",
      "z    3\n",
      "dtype: int64\n"
     ]
    }
   ],
   "source": [
    "import pandas as pd\n",
    "a=[1,2,3]\n",
    "myset=pd.Series(a,index=[\"x\",\"y\",\"z\"])\n",
    "print(myset)"
   ]
  },
  {
   "cell_type": "code",
   "execution_count": 36,
   "id": "4b400774",
   "metadata": {},
   "outputs": [
    {
     "name": "stdout",
     "output_type": "stream",
     "text": [
      "day 1    420\n",
      "day 2    380\n",
      "day 3    390\n",
      "dtype: int64\n"
     ]
    }
   ],
   "source": [
    "import pandas as pd\n",
    "colories={\"day 1\":420,\"day 2\":380,\"day 3\":390}\n",
    "myset=pd.Series(colories)\n",
    "print(myset)"
   ]
  },
  {
   "cell_type": "code",
   "execution_count": 4,
   "id": "fa7d3864",
   "metadata": {},
   "outputs": [
    {
     "name": "stdout",
     "output_type": "stream",
     "text": [
      "day 1    420\n",
      "day 2    380\n",
      "dtype: int64\n"
     ]
    }
   ],
   "source": [
    "import pandas as pd\n",
    "colories={\"day 1\":420,\"day 2\":380,\"day 3\":390}\n",
    "myset=pd.Series(colories,index=[\"day 1\",\"day 2\"])\n",
    "print(myset)"
   ]
  },
  {
   "cell_type": "code",
   "execution_count": 1,
   "id": "387da087",
   "metadata": {},
   "outputs": [
    {
     "name": "stdout",
     "output_type": "stream",
     "text": [
      "        Date      name   m1   m2   m3   m4  total  average result\n",
      "0  12.3.2022     ajith   90   50   66   80    286    71.50   PASS\n",
      "1  12.3.2022  aravindh  100  100  100  100    400   100.00   PASS\n",
      "2  12.3.2022      hari   78   58   96   33    235    58.75   FAIL\n",
      "3  12.3.2022    jockin   25   45   91   83    286    71.50   FAIL\n",
      "4  12.3.2022     selva   68   67   89   52    214    53.50   FAIL\n",
      "5  12.3.2022     kumar   73   65   61   45    244    61.00   PASS\n",
      "6  12.3.2022      bala   77   65   42   22    228    57.00   FAIL\n",
      "7  12.3.2022     lenin   25   33   58   78    165    41.25   FAIL\n",
      "8  12.3.2022     jasim   90   35    3   71    199    49.75   FAIL\n"
     ]
    }
   ],
   "source": [
    "import pandas as pd\n",
    "df=pd.read_csv(\"c:\\pandas\\marklist1.csv\")\n",
    "print(df)\n"
   ]
  },
  {
   "cell_type": "code",
   "execution_count": 2,
   "id": "68ff7c9f",
   "metadata": {},
   "outputs": [
    {
     "data": {
      "text/html": [
       "<div>\n",
       "<style scoped>\n",
       "    .dataframe tbody tr th:only-of-type {\n",
       "        vertical-align: middle;\n",
       "    }\n",
       "\n",
       "    .dataframe tbody tr th {\n",
       "        vertical-align: top;\n",
       "    }\n",
       "\n",
       "    .dataframe thead th {\n",
       "        text-align: right;\n",
       "    }\n",
       "</style>\n",
       "<table border=\"1\" class=\"dataframe\">\n",
       "  <thead>\n",
       "    <tr style=\"text-align: right;\">\n",
       "      <th></th>\n",
       "      <th>Date</th>\n",
       "      <th>name</th>\n",
       "      <th>m1</th>\n",
       "      <th>m2</th>\n",
       "      <th>m3</th>\n",
       "      <th>m4</th>\n",
       "      <th>total</th>\n",
       "      <th>average</th>\n",
       "      <th>result</th>\n",
       "    </tr>\n",
       "  </thead>\n",
       "  <tbody>\n",
       "    <tr>\n",
       "      <th>0</th>\n",
       "      <td>12.3.2022</td>\n",
       "      <td>ajith</td>\n",
       "      <td>90</td>\n",
       "      <td>50</td>\n",
       "      <td>66</td>\n",
       "      <td>80</td>\n",
       "      <td>286</td>\n",
       "      <td>71.50</td>\n",
       "      <td>PASS</td>\n",
       "    </tr>\n",
       "    <tr>\n",
       "      <th>1</th>\n",
       "      <td>12.3.2022</td>\n",
       "      <td>aravindh</td>\n",
       "      <td>100</td>\n",
       "      <td>100</td>\n",
       "      <td>100</td>\n",
       "      <td>100</td>\n",
       "      <td>400</td>\n",
       "      <td>100.00</td>\n",
       "      <td>PASS</td>\n",
       "    </tr>\n",
       "    <tr>\n",
       "      <th>2</th>\n",
       "      <td>12.3.2022</td>\n",
       "      <td>hari</td>\n",
       "      <td>78</td>\n",
       "      <td>58</td>\n",
       "      <td>96</td>\n",
       "      <td>33</td>\n",
       "      <td>235</td>\n",
       "      <td>58.75</td>\n",
       "      <td>FAIL</td>\n",
       "    </tr>\n",
       "    <tr>\n",
       "      <th>3</th>\n",
       "      <td>12.3.2022</td>\n",
       "      <td>jockin</td>\n",
       "      <td>25</td>\n",
       "      <td>45</td>\n",
       "      <td>91</td>\n",
       "      <td>83</td>\n",
       "      <td>286</td>\n",
       "      <td>71.50</td>\n",
       "      <td>FAIL</td>\n",
       "    </tr>\n",
       "    <tr>\n",
       "      <th>4</th>\n",
       "      <td>12.3.2022</td>\n",
       "      <td>selva</td>\n",
       "      <td>68</td>\n",
       "      <td>67</td>\n",
       "      <td>89</td>\n",
       "      <td>52</td>\n",
       "      <td>214</td>\n",
       "      <td>53.50</td>\n",
       "      <td>FAIL</td>\n",
       "    </tr>\n",
       "    <tr>\n",
       "      <th>5</th>\n",
       "      <td>12.3.2022</td>\n",
       "      <td>kumar</td>\n",
       "      <td>73</td>\n",
       "      <td>65</td>\n",
       "      <td>61</td>\n",
       "      <td>45</td>\n",
       "      <td>244</td>\n",
       "      <td>61.00</td>\n",
       "      <td>PASS</td>\n",
       "    </tr>\n",
       "    <tr>\n",
       "      <th>6</th>\n",
       "      <td>12.3.2022</td>\n",
       "      <td>bala</td>\n",
       "      <td>77</td>\n",
       "      <td>65</td>\n",
       "      <td>42</td>\n",
       "      <td>22</td>\n",
       "      <td>228</td>\n",
       "      <td>57.00</td>\n",
       "      <td>FAIL</td>\n",
       "    </tr>\n",
       "    <tr>\n",
       "      <th>7</th>\n",
       "      <td>12.3.2022</td>\n",
       "      <td>lenin</td>\n",
       "      <td>25</td>\n",
       "      <td>33</td>\n",
       "      <td>58</td>\n",
       "      <td>78</td>\n",
       "      <td>165</td>\n",
       "      <td>41.25</td>\n",
       "      <td>FAIL</td>\n",
       "    </tr>\n",
       "    <tr>\n",
       "      <th>8</th>\n",
       "      <td>12.3.2022</td>\n",
       "      <td>jasim</td>\n",
       "      <td>90</td>\n",
       "      <td>35</td>\n",
       "      <td>3</td>\n",
       "      <td>71</td>\n",
       "      <td>199</td>\n",
       "      <td>49.75</td>\n",
       "      <td>FAIL</td>\n",
       "    </tr>\n",
       "  </tbody>\n",
       "</table>\n",
       "</div>"
      ],
      "text/plain": [
       "        Date      name   m1   m2   m3   m4  total  average result\n",
       "0  12.3.2022     ajith   90   50   66   80    286    71.50   PASS\n",
       "1  12.3.2022  aravindh  100  100  100  100    400   100.00   PASS\n",
       "2  12.3.2022      hari   78   58   96   33    235    58.75   FAIL\n",
       "3  12.3.2022    jockin   25   45   91   83    286    71.50   FAIL\n",
       "4  12.3.2022     selva   68   67   89   52    214    53.50   FAIL\n",
       "5  12.3.2022     kumar   73   65   61   45    244    61.00   PASS\n",
       "6  12.3.2022      bala   77   65   42   22    228    57.00   FAIL\n",
       "7  12.3.2022     lenin   25   33   58   78    165    41.25   FAIL\n",
       "8  12.3.2022     jasim   90   35    3   71    199    49.75   FAIL"
      ]
     },
     "execution_count": 2,
     "metadata": {},
     "output_type": "execute_result"
    }
   ],
   "source": [
    "import pandas as pd\n",
    "df=pd.read_csv(\"c:\\pandas\\marklist1.csv\")\n",
    "df"
   ]
  },
  {
   "cell_type": "code",
   "execution_count": 5,
   "id": "c882eaa9",
   "metadata": {},
   "outputs": [
    {
     "name": "stdout",
     "output_type": "stream",
     "text": [
      "   dur  pluse  maxpluse  colories\n",
      "0   60    120       122       320\n",
      "1   70    110       112       202\n",
      "3   30    112       115       480\n"
     ]
    }
   ],
   "source": [
    "import pandas as pd\n",
    "data={\n",
    "    \"dur\":{\n",
    "        \"0\":60,\n",
    "        \"1\":70,\n",
    "        \"3\":30,\n",
    "    },\n",
    "    \"pluse\":{\n",
    "        \"0\":120,\n",
    "        \"1\":110,\n",
    "        \"3\":112,\n",
    "    },\n",
    "     \"maxpluse\":{\n",
    "        \"0\":122,\n",
    "        \"1\":112,\n",
    "        \"3\":115,\n",
    "    },\n",
    "     \"colories\":{\n",
    "        \"0\":320,\n",
    "        \"1\":202,\n",
    "        \"3\":480,\n",
    "    }\n",
    "    \n",
    "}\n",
    "df=pd.DataFrame(data)\n",
    "print(df)"
   ]
  },
  {
   "cell_type": "code",
   "execution_count": 7,
   "id": "e94f1603",
   "metadata": {},
   "outputs": [
    {
     "name": "stdout",
     "output_type": "stream",
     "text": [
      "        Date      name   m1   m2   m3   m4  total  average result\n",
      "0  12.3.2022     ajith   90   50   66   80    286    71.50   PASS\n",
      "1  12.3.2022  aravindh  100  100  100  100    400   100.00   PASS\n",
      "2  12.3.2022      hari   78   58   96   33    235    58.75   FAIL\n",
      "3  12.3.2022    jockin   25   45   91   83    286    71.50   FAIL\n",
      "4  12.3.2022     selva   68   67   89   52    214    53.50   FAIL\n"
     ]
    }
   ],
   "source": [
    "import pandas as pd\n",
    "df=pd.read_csv(\"c:\\pandas\\marklist1.csv\")\n",
    "print(df.head())"
   ]
  },
  {
   "cell_type": "code",
   "execution_count": 8,
   "id": "90d49fb3",
   "metadata": {},
   "outputs": [
    {
     "name": "stdout",
     "output_type": "stream",
     "text": [
      "        Date   name  m1  m2  m3  m4  total  average result\n",
      "4  12.3.2022  selva  68  67  89  52    214    53.50   FAIL\n",
      "5  12.3.2022  kumar  73  65  61  45    244    61.00   PASS\n",
      "6  12.3.2022   bala  77  65  42  22    228    57.00   FAIL\n",
      "7  12.3.2022  lenin  25  33  58  78    165    41.25   FAIL\n",
      "8  12.3.2022  jasim  90  35   3  71    199    49.75   FAIL\n"
     ]
    }
   ],
   "source": [
    "import pandas as pd\n",
    "df=pd.read_csv(\"c:\\pandas\\marklist1.csv\")\n",
    "print(df.tail())"
   ]
  },
  {
   "cell_type": "code",
   "execution_count": 9,
   "id": "a6781e8f",
   "metadata": {},
   "outputs": [
    {
     "name": "stdout",
     "output_type": "stream",
     "text": [
      "        Date      name   m1   m2   m3   m4  total  average result\n",
      "0  12.3.2022     ajith   90   50   66   80    286    71.50   PASS\n",
      "1  12.3.2022  aravindh  100  100  100  100    400   100.00   PASS\n",
      "2  12.3.2022      hari   78   58   96   33    235    58.75   FAIL\n",
      "3  12.3.2022    jockin   25   45   91   83    286    71.50   FAIL\n",
      "4  12.3.2022     selva   68   67   89   52    214    53.50   FAIL\n",
      "5  12.3.2022     kumar   73   65   61   45    244    61.00   PASS\n",
      "6  12.3.2022      bala   77   65   42   22    228    57.00   FAIL\n",
      "7  12.3.2022     lenin   25   33   58   78    165    41.25   FAIL\n",
      "8  12.3.2022     jasim   90   35    3   71    199    49.75   FAIL\n"
     ]
    }
   ],
   "source": [
    "import pandas as pd\n",
    "df=pd.read_csv(\"c:\\pandas\\marklist1.csv\")\n",
    "print(df.head(10))"
   ]
  },
  {
   "cell_type": "code",
   "execution_count": 10,
   "id": "adb045d5",
   "metadata": {},
   "outputs": [
    {
     "name": "stdout",
     "output_type": "stream",
     "text": [
      "<class 'pandas.core.frame.DataFrame'>\n",
      "RangeIndex: 9 entries, 0 to 8\n",
      "Data columns (total 9 columns):\n",
      " #   Column   Non-Null Count  Dtype  \n",
      "---  ------   --------------  -----  \n",
      " 0   Date     9 non-null      object \n",
      " 1   name     9 non-null      object \n",
      " 2   m1       9 non-null      int64  \n",
      " 3   m2       9 non-null      int64  \n",
      " 4   m3       9 non-null      int64  \n",
      " 5   m4       9 non-null      int64  \n",
      " 6   total    9 non-null      int64  \n",
      " 7   average  9 non-null      float64\n",
      " 8   result   9 non-null      object \n",
      "dtypes: float64(1), int64(5), object(3)\n",
      "memory usage: 776.0+ bytes\n",
      "None\n"
     ]
    }
   ],
   "source": [
    "import pandas as pd\n",
    "df=pd.read_csv(\"c:\\pandas\\marklist1.csv\")\n",
    "print(df.info())"
   ]
  },
  {
   "cell_type": "code",
   "execution_count": 14,
   "id": "53058efc",
   "metadata": {},
   "outputs": [
    {
     "name": "stdout",
     "output_type": "stream",
     "text": [
      "               m1          m2          m3          m4       total     average\n",
      "count    9.000000    9.000000    9.000000    9.000000    9.000000    9.000000\n",
      "mean    69.555556   57.555556   67.333333   62.666667  250.777778   62.694444\n",
      "std     27.097560   20.396759   31.280985   25.913317   67.964656   16.991164\n",
      "min     25.000000   33.000000    3.000000   22.000000  165.000000   41.250000\n",
      "25%     68.000000   45.000000   58.000000   45.000000  214.000000   53.500000\n",
      "50%     77.000000   58.000000   66.000000   71.000000  235.000000   58.750000\n",
      "75%     90.000000   65.000000   91.000000   80.000000  286.000000   71.500000\n",
      "max    100.000000  100.000000  100.000000  100.000000  400.000000  100.000000\n"
     ]
    }
   ],
   "source": [
    "import pandas as pd\n",
    "df=pd.read_csv(\"c:\\pandas\\marklist1.csv\")\n",
    "print(df.describe())"
   ]
  },
  {
   "cell_type": "code",
   "execution_count": 12,
   "id": "9b5f9ce9",
   "metadata": {},
   "outputs": [
    {
     "name": "stdout",
     "output_type": "stream",
     "text": [
      "        Date      name     m1     m2     m3     m4  total  average result\n",
      "0  12.3.2022     ajith   90.0   50.0   66.0   80.0    286     71.5   PASS\n",
      "1  12.3.2022  aravindh  100.0  100.0  100.0  100.0    400    100.0   PASS\n",
      "4  12.3.2022     selva   68.0   67.0   89.0   52.0    214     53.5   FAIL\n",
      "6  12.3.2022      bala   77.0   65.0   42.0   22.0    228     57.0   FAIL\n"
     ]
    }
   ],
   "source": [
    "import pandas as pd\n",
    "df=pd.read_csv(\"c:\\pandas\\marklist2.csv\")\n",
    "a=df.dropna()\n",
    "print(a)"
   ]
  },
  {
   "cell_type": "code",
   "execution_count": 11,
   "id": "4e930ca0",
   "metadata": {},
   "outputs": [
    {
     "name": "stdout",
     "output_type": "stream",
     "text": [
      "        Date      name     m1     m2     m3     m4  total  average result\n",
      "0  12.3.2022     ajith   90.0   50.0   66.0   80.0    286     71.5   PASS\n",
      "1  12.3.2022  aravindh  100.0  100.0  100.0  100.0    400    100.0   PASS\n",
      "4  12.3.2022     selva   68.0   67.0   89.0   52.0    214     53.5   FAIL\n",
      "6  12.3.2022      bala   77.0   65.0   42.0   22.0    228     57.0   FAIL\n"
     ]
    }
   ],
   "source": [
    "import pandas as pd\n",
    "df=pd.read_csv(\"c:\\pandas\\marklist2.csv\")\n",
    "df.dropna(inplace=True)\n",
    "print(df)"
   ]
  },
  {
   "cell_type": "code",
   "execution_count": 10,
   "id": "cfcf53b0",
   "metadata": {},
   "outputs": [
    {
     "name": "stdout",
     "output_type": "stream",
     "text": [
      "        Date      name     m1     m2     m3     m4  total  average result\n",
      "0  12.3.2022     ajith   90.0   50.0   66.0   80.0    286    71.50   PASS\n",
      "1  12.3.2022  aravindh  100.0  100.0  100.0  100.0    400   100.00   PASS\n",
      "2  12.3.2022      hari   70.0   58.0   96.0   70.0    235    58.75   FAIL\n",
      "3  12.3.2022    jockin   25.0   45.0   70.0   83.0    286    71.50   FAIL\n",
      "4  12.3.2022     selva   68.0   67.0   89.0   52.0    214    53.50   FAIL\n",
      "5  12.3.2022     kumar   73.0   70.0   61.0   45.0    244    61.00   PASS\n",
      "6  12.3.2022      bala   77.0   65.0   42.0   22.0    228    57.00   FAIL\n",
      "7  12.3.2022     lenin   25.0   33.0   58.0   70.0    165    41.25   FAIL\n",
      "8  12.3.2022     jasim   90.0   70.0    3.0   71.0    199    49.75   FAIL\n"
     ]
    }
   ],
   "source": [
    "import pandas as pd\n",
    "df=pd.read_csv(\"c:\\pandas\\marklist2.csv\")\n",
    "df.fillna(70,inplace=True)\n",
    "print(df)"
   ]
  },
  {
   "cell_type": "code",
   "execution_count": 9,
   "id": "44cc1691",
   "metadata": {},
   "outputs": [
    {
     "name": "stdout",
     "output_type": "stream",
     "text": [
      "        Date      name     m1     m2     m3     m4  total  average result\n",
      "0  12.3.2022     ajith   90.0   50.0   66.0   80.0    286    71.50   PASS\n",
      "1  12.3.2022  aravindh  100.0  100.0  100.0  100.0    400   100.00   PASS\n",
      "2  12.3.2022      hari    NaN   58.0   96.0  100.0    235    58.75   FAIL\n",
      "3  12.3.2022    jockin   25.0   45.0    NaN   83.0    286    71.50   FAIL\n",
      "4  12.3.2022     selva   68.0   67.0   89.0   52.0    214    53.50   FAIL\n",
      "5  12.3.2022     kumar   73.0    NaN   61.0   45.0    244    61.00   PASS\n",
      "6  12.3.2022      bala   77.0   65.0   42.0   22.0    228    57.00   FAIL\n",
      "7  12.3.2022     lenin   25.0   33.0   58.0  100.0    165    41.25   FAIL\n",
      "8  12.3.2022     jasim   90.0    NaN    3.0   71.0    199    49.75   FAIL\n"
     ]
    }
   ],
   "source": [
    "import pandas as pd\n",
    "df=pd.read_csv(\"c:\\pandas\\marklist2.csv\")\n",
    "df[\"m4\"].fillna(100,inplace=True)\n",
    "print(df)"
   ]
  },
  {
   "cell_type": "code",
   "execution_count": 14,
   "id": "a93ec00d",
   "metadata": {},
   "outputs": [
    {
     "name": "stdout",
     "output_type": "stream",
     "text": [
      "        Date      name     m1     m2       m3     m4  total  average result\n",
      "0  12.3.2022     ajith   90.0   50.0   66.000   80.0    286    71.50   PASS\n",
      "1  12.3.2022  aravindh  100.0  100.0  100.000  100.0    400   100.00   PASS\n",
      "2  12.3.2022      hari    NaN   58.0   96.000    NaN    235    58.75   FAIL\n",
      "3  12.3.2022    jockin   25.0   45.0   64.375   83.0    286    71.50   FAIL\n",
      "4  12.3.2022     selva   68.0   67.0   89.000   52.0    214    53.50   FAIL\n",
      "5  12.3.2022     kumar   73.0    NaN   61.000   45.0    244    61.00   PASS\n",
      "6  12.3.2022      bala   77.0   65.0   42.000   22.0    228    57.00   FAIL\n",
      "7  12.3.2022     lenin   25.0   33.0   58.000    NaN    165    41.25   FAIL\n",
      "8  12.3.2022     jasim   90.0    NaN    3.000   71.0    199    49.75   FAIL\n"
     ]
    }
   ],
   "source": [
    "import pandas as pd\n",
    "df=pd.read_csv(\"c:\\pandas\\marklist2.csv\")\n",
    "x=df[\"m3\"].mean()\n",
    "df[\"m3\"].fillna(x,inplace=True)\n",
    "print(df)"
   ]
  },
  {
   "cell_type": "code",
   "execution_count": 15,
   "id": "50505268",
   "metadata": {},
   "outputs": [
    {
     "name": "stdout",
     "output_type": "stream",
     "text": [
      "        Date      name     m1     m2     m3     m4  total  average result\n",
      "0  12.3.2022     ajith   90.0   50.0   66.0   80.0    286    71.50   PASS\n",
      "1  12.3.2022  aravindh  100.0  100.0  100.0  100.0    400   100.00   PASS\n",
      "2  12.3.2022      hari    NaN   58.0   96.0    NaN    235    58.75   FAIL\n",
      "3  12.3.2022    jockin   25.0   45.0   63.5   83.0    286    71.50   FAIL\n",
      "4  12.3.2022     selva   68.0   67.0   89.0   52.0    214    53.50   FAIL\n",
      "5  12.3.2022     kumar   73.0    NaN   61.0   45.0    244    61.00   PASS\n",
      "6  12.3.2022      bala   77.0   65.0   42.0   22.0    228    57.00   FAIL\n",
      "7  12.3.2022     lenin   25.0   33.0   58.0    NaN    165    41.25   FAIL\n",
      "8  12.3.2022     jasim   90.0    NaN    3.0   71.0    199    49.75   FAIL\n"
     ]
    }
   ],
   "source": [
    "import pandas as pd\n",
    "df=pd.read_csv(\"c:\\pandas\\marklist2.csv\")\n",
    "x=df[\"m3\"].median()\n",
    "df[\"m3\"].fillna(x,inplace=True)\n",
    "print(df)"
   ]
  },
  {
   "cell_type": "code",
   "execution_count": 17,
   "id": "f72c0bd7",
   "metadata": {},
   "outputs": [
    {
     "name": "stdout",
     "output_type": "stream",
     "text": [
      "        Date      name     m1     m2     m3     m4  total  average result\n",
      "0  12.3.2022     ajith   90.0   50.0   66.0   80.0    286    71.50   PASS\n",
      "1  12.3.2022  aravindh  100.0  100.0  100.0  100.0    400   100.00   PASS\n",
      "2  12.3.2022      hari    NaN   58.0   96.0    NaN    235    58.75   FAIL\n",
      "3  12.3.2022    jockin   25.0   45.0    3.0   83.0    286    71.50   FAIL\n",
      "4  12.3.2022     selva   68.0   67.0   89.0   52.0    214    53.50   FAIL\n",
      "5  12.3.2022     kumar   73.0    NaN   61.0   45.0    244    61.00   PASS\n",
      "6  12.3.2022      bala   77.0   65.0   42.0   22.0    228    57.00   FAIL\n",
      "7  12.3.2022     lenin   25.0   33.0   58.0    NaN    165    41.25   FAIL\n",
      "8  12.3.2022     jasim   90.0    NaN    3.0   71.0    199    49.75   FAIL\n"
     ]
    }
   ],
   "source": [
    "import pandas as pd\n",
    "df=pd.read_csv(\"c:\\pandas\\marklist2.csv\")\n",
    "x=df[\"m3\"].mode()[0]\n",
    "df[\"m3\"].fillna(x,inplace=True)\n",
    "print(df)"
   ]
  },
  {
   "cell_type": "code",
   "execution_count": 5,
   "id": "742671d7",
   "metadata": {},
   "outputs": [
    {
     "name": "stdout",
     "output_type": "stream",
     "text": [
      "****\n",
      "sum of value of m4 is 515.0\n",
      "******\n"
     ]
    }
   ],
   "source": [
    "import pandas as pd\n",
    "df=pd.read_csv(\"c:\\pandas\\marklist2.csv\")\n",
    "x=df[\"m3\"].sum()\n",
    "print(\"****\")\n",
    "print(\"sum of value of m4 is\",x)\n",
    "print(\"******\")"
   ]
  },
  {
   "cell_type": "code",
   "execution_count": 6,
   "id": "322c9626",
   "metadata": {},
   "outputs": [
    {
     "name": "stdout",
     "output_type": "stream",
     "text": [
      "8\n"
     ]
    }
   ],
   "source": [
    "import pandas as pd\n",
    "df=pd.read_csv(\"c:\\pandas\\marklist2.csv\")\n",
    "x=df[\"m3\"].count()\n",
    "print(x)"
   ]
  },
  {
   "cell_type": "code",
   "execution_count": 7,
   "id": "51ac98b4",
   "metadata": {},
   "outputs": [
    {
     "name": "stdout",
     "output_type": "stream",
     "text": [
      "3.0\n"
     ]
    }
   ],
   "source": [
    "import pandas as pd\n",
    "df=pd.read_csv(\"c:\\pandas\\marklist2.csv\")\n",
    "x=df[\"m3\"].min()\n",
    "print(x)"
   ]
  },
  {
   "cell_type": "code",
   "execution_count": 8,
   "id": "7504b2b8",
   "metadata": {},
   "outputs": [
    {
     "name": "stdout",
     "output_type": "stream",
     "text": [
      "100.0\n"
     ]
    }
   ],
   "source": [
    "import pandas as pd\n",
    "df=pd.read_csv(\"c:\\pandas\\marklist2.csv\")\n",
    "x=df[\"m3\"].max()\n",
    "print(x)"
   ]
  },
  {
   "cell_type": "code",
   "execution_count": 45,
   "id": "58eedb6f",
   "metadata": {
    "scrolled": true
   },
   "outputs": [
    {
     "name": "stdout",
     "output_type": "stream",
     "text": [
      "           Day      City  Temperature  Windspeed   Event\n",
      "0   12-12-2022  new york           96          6    Rain\n",
      "1   13-12-2022  new york           94          7   sunny\n",
      "2   14-12-2022  new york           35         12    snow\n",
      "3   15-12-2022  new york           67          7   sunny\n",
      "4   16-12-2022    mumbai           34          5   sunny\n",
      "5   17-12-2022    mumbai           78         12     Fog\n",
      "6   18-12-2022    mumbai           90         15     Fog\n",
      "7   19-12-2022    mumbai           42          5    Rain\n",
      "8   20-12-2022    London           34         20   Sunny\n",
      "9   21-12-2022    London           50         10  Cloudy\n",
      "10  22-12-2022    London           45         15  Cloudy\n",
      "11  23-12-2022    London           89         25  Cloudy\n"
     ]
    }
   ],
   "source": [
    "import pandas as pd\n",
    "df=pd.read_csv(\"c:\\pandas\\weather.csv\")\n",
    "print(df)"
   ]
  },
  {
   "cell_type": "code",
   "execution_count": 46,
   "id": "a13c018f",
   "metadata": {
    "scrolled": true
   },
   "outputs": [
    {
     "name": "stdout",
     "output_type": "stream",
     "text": [
      "<pandas.core.groupby.generic.DataFrameGroupBy object at 0x000001F297A32F40>\n"
     ]
    }
   ],
   "source": [
    "group=df.groupby(\"City\")\n",
    "print(group)"
   ]
  },
  {
   "cell_type": "code",
   "execution_count": 47,
   "id": "5449610a",
   "metadata": {},
   "outputs": [
    {
     "name": "stdout",
     "output_type": "stream",
     "text": [
      "London\n",
      "           Day    City  Temperature  Windspeed   Event\n",
      "8   20-12-2022  London           34         20   Sunny\n",
      "9   21-12-2022  London           50         10  Cloudy\n",
      "10  22-12-2022  London           45         15  Cloudy\n",
      "11  23-12-2022  London           89         25  Cloudy\n",
      "mumbai\n",
      "          Day    City  Temperature  Windspeed  Event\n",
      "4  16-12-2022  mumbai           34          5  sunny\n",
      "5  17-12-2022  mumbai           78         12    Fog\n",
      "6  18-12-2022  mumbai           90         15    Fog\n",
      "7  19-12-2022  mumbai           42          5   Rain\n",
      "new york\n",
      "          Day      City  Temperature  Windspeed  Event\n",
      "0  12-12-2022  new york           96          6   Rain\n",
      "1  13-12-2022  new york           94          7  sunny\n",
      "2  14-12-2022  new york           35         12   snow\n",
      "3  15-12-2022  new york           67          7  sunny\n"
     ]
    },
    {
     "data": {
      "text/html": [
       "<div>\n",
       "<style scoped>\n",
       "    .dataframe tbody tr th:only-of-type {\n",
       "        vertical-align: middle;\n",
       "    }\n",
       "\n",
       "    .dataframe tbody tr th {\n",
       "        vertical-align: top;\n",
       "    }\n",
       "\n",
       "    .dataframe thead th {\n",
       "        text-align: right;\n",
       "    }\n",
       "</style>\n",
       "<table border=\"1\" class=\"dataframe\">\n",
       "  <thead>\n",
       "    <tr style=\"text-align: right;\">\n",
       "      <th></th>\n",
       "      <th>Day</th>\n",
       "      <th>City</th>\n",
       "      <th>Temperature</th>\n",
       "      <th>Windspeed</th>\n",
       "      <th>Event</th>\n",
       "    </tr>\n",
       "  </thead>\n",
       "  <tbody>\n",
       "    <tr>\n",
       "      <th>8</th>\n",
       "      <td>20-12-2022</td>\n",
       "      <td>London</td>\n",
       "      <td>34</td>\n",
       "      <td>20</td>\n",
       "      <td>Sunny</td>\n",
       "    </tr>\n",
       "    <tr>\n",
       "      <th>9</th>\n",
       "      <td>21-12-2022</td>\n",
       "      <td>London</td>\n",
       "      <td>50</td>\n",
       "      <td>10</td>\n",
       "      <td>Cloudy</td>\n",
       "    </tr>\n",
       "    <tr>\n",
       "      <th>10</th>\n",
       "      <td>22-12-2022</td>\n",
       "      <td>London</td>\n",
       "      <td>45</td>\n",
       "      <td>15</td>\n",
       "      <td>Cloudy</td>\n",
       "    </tr>\n",
       "    <tr>\n",
       "      <th>11</th>\n",
       "      <td>23-12-2022</td>\n",
       "      <td>London</td>\n",
       "      <td>89</td>\n",
       "      <td>25</td>\n",
       "      <td>Cloudy</td>\n",
       "    </tr>\n",
       "  </tbody>\n",
       "</table>\n",
       "</div>"
      ],
      "text/plain": [
       "           Day    City  Temperature  Windspeed   Event\n",
       "8   20-12-2022  London           34         20   Sunny\n",
       "9   21-12-2022  London           50         10  Cloudy\n",
       "10  22-12-2022  London           45         15  Cloudy\n",
       "11  23-12-2022  London           89         25  Cloudy"
      ]
     },
     "execution_count": 47,
     "metadata": {},
     "output_type": "execute_result"
    }
   ],
   "source": [
    "for i,j in group:\n",
    "    print(i)\n",
    "    print(j)\n",
    "group.get_group(\"London\")\n",
    "    "
   ]
  },
  {
   "cell_type": "code",
   "execution_count": 42,
   "id": "6a3d645d",
   "metadata": {},
   "outputs": [
    {
     "name": "stdout",
     "output_type": "stream",
     "text": [
      "           Day      City  Temperature  Windspeed  Event\n",
      "8          NaN       NaN          NaN        NaN    NaN\n",
      "9          NaN       NaN          NaN        NaN    NaN\n",
      "10         NaN       NaN          NaN        NaN    NaN\n",
      "11         NaN       NaN          NaN        NaN    NaN\n",
      "4          NaN       NaN          NaN        NaN    NaN\n",
      "5          NaN       NaN          NaN        NaN    NaN\n",
      "6          NaN       NaN          NaN        NaN    NaN\n",
      "7          NaN       NaN          NaN        NaN    NaN\n",
      "0          NaN       NaN          NaN        NaN    NaN\n",
      "1   13-12-2022  new york         94.0        7.0  sunny\n",
      "2          NaN       NaN          NaN        NaN    NaN\n",
      "3   15-12-2022  new york         67.0        7.0  sunny\n"
     ]
    }
   ],
   "source": [
    "import pandas as pd \n",
    "df=pd.read_csv(\"c:\\pandas\\weather.csv\")\n",
    "df.sort_values(\"City\",inplace=True)\n",
    "filter=df[\"Event\"]==\"sunny\"\n",
    "filter1=df[\"City\"]==\"new york\"\n",
    "df.where(filter & filter1,inplace=True)\n",
    "print(df)"
   ]
  },
  {
   "cell_type": "code",
   "execution_count": 7,
   "id": "9d8de646",
   "metadata": {},
   "outputs": [
    {
     "name": "stdout",
     "output_type": "stream",
     "text": [
      "        Date      name   m1   m2   m3   m4  total  average result\n",
      "0 2022-12-03     ajith   90   50   66   80    286    71.50   PASS\n",
      "1 2022-12-03  aravindh  100  100  100  100    400   100.00   PASS\n",
      "2 2022-12-03      hari   78   58   96   33    235    58.75   FAIL\n",
      "3 2022-12-03    jockin   25   45   91   83    286    71.50   FAIL\n",
      "4 2022-12-03     selva   68   67   89   52    214    53.50   FAIL\n",
      "5 2022-12-03     kumar   73   65   61   45    244    61.00   PASS\n",
      "6 2022-12-03      bala   77   65   42   22    228    57.00   FAIL\n",
      "7 2022-12-03     lenin   25   33   58   78    165    41.25   FAIL\n",
      "8 2022-12-03     jasim   90   35    3   71    199    49.75   FAIL\n"
     ]
    }
   ],
   "source": [
    "import pandas as pd\n",
    "df=pd.read_csv(\"c:\\pandas\\marklist1.csv\")\n",
    "df[\"Date\"]=pd.to_datetime(df[\"Date\"])\n",
    "print(df)"
   ]
  },
  {
   "cell_type": "code",
   "execution_count": 10,
   "id": "3327fead",
   "metadata": {},
   "outputs": [
    {
     "name": "stdout",
     "output_type": "stream",
     "text": [
      "None\n"
     ]
    }
   ],
   "source": [
    "import pandas as pd\n",
    "df=pd.read_csv(\"c:\\pandas\\marklist1.csv\")\n",
    "df[\"Date\"]=pd.to_datetime(df[\"Date\"])\n",
    "x=df.dropna(subset=[\"Date\"],inplace=True)\n",
    "print(x)"
   ]
  },
  {
   "cell_type": "code",
   "execution_count": 11,
   "id": "7c21a4ba",
   "metadata": {},
   "outputs": [
    {
     "name": "stdout",
     "output_type": "stream",
     "text": [
      "        Date      name   m1   m2   m3   m4  total  average result  Duration\n",
      "0  12.3.2022     ajith   90   50   66   80    286    71.50   PASS       NaN\n",
      "1  12.3.2022  aravindh  100  100  100  100    400   100.00   PASS       NaN\n",
      "2  12.3.2022      hari   78   58   96   33    235    58.75   FAIL       NaN\n",
      "3  12.3.2022    jockin   25   45   91   83    286    71.50   FAIL       NaN\n",
      "4  12.3.2022     selva   68   67   89   52    214    53.50   FAIL       NaN\n",
      "5  12.3.2022     kumar   73   65   61   45    244    61.00   PASS       NaN\n",
      "6  12.3.2022      bala   77   65   42   22    228    57.00   FAIL       NaN\n",
      "7  12.3.2022     lenin   25   33   58   78    165    41.25   FAIL      45.0\n",
      "8  12.3.2022     jasim   90   35    3   71    199    49.75   FAIL       NaN\n"
     ]
    }
   ],
   "source": [
    "import pandas as pd\n",
    "df=pd.read_csv(\"c:\\pandas\\marklist1.csv\")\n",
    "df.loc[7,\"Duration\"]=45\n",
    "print(df)"
   ]
  },
  {
   "cell_type": "code",
   "execution_count": 4,
   "id": "6733d08f",
   "metadata": {},
   "outputs": [
    {
     "ename": "SyntaxError",
     "evalue": "invalid syntax (<ipython-input-4-a101b68ecf2e>, line 4)",
     "output_type": "error",
     "traceback": [
      "\u001b[1;36m  File \u001b[1;32m\"<ipython-input-4-a101b68ecf2e>\"\u001b[1;36m, line \u001b[1;32m4\u001b[0m\n\u001b[1;33m    If df.loc[x,\"Duration\"]>120\u001b[0m\n\u001b[1;37m       ^\u001b[0m\n\u001b[1;31mSyntaxError\u001b[0m\u001b[1;31m:\u001b[0m invalid syntax\n"
     ]
    }
   ],
   "source": [
    "import pandas as pd\n",
    "df=pd.read_csv(\"c:\\pandas\\marklist.csv\")\n",
    "for x in df.index:\n",
    "    If df.loc[x,\"Duration\"]>120\n",
    "    df.loc[x,\"Duration\"]=120\n",
    "print(df.to_string())"
   ]
  },
  {
   "cell_type": "code",
   "execution_count": 5,
   "id": "355cf001",
   "metadata": {},
   "outputs": [
    {
     "name": "stdout",
     "output_type": "stream",
     "text": [
      "0    False\n",
      "1    False\n",
      "2    False\n",
      "3    False\n",
      "4    False\n",
      "5    False\n",
      "6    False\n",
      "7    False\n",
      "8    False\n",
      "dtype: bool\n"
     ]
    }
   ],
   "source": [
    "import pandas as pd\n",
    "df=pd.read_csv(\"c:\\pandas\\marklist.csv\")\n",
    "print(df.duplicated())"
   ]
  },
  {
   "cell_type": "code",
   "execution_count": 6,
   "id": "b01c1458",
   "metadata": {},
   "outputs": [
    {
     "name": "stdout",
     "output_type": "stream",
     "text": [
      "        Date      name     m1     m2     m3     m4  total  average result\n",
      "0  12.3.2022     ajith   90.0   50.0   66.0   80.0    286    71.50   PASS\n",
      "1  12.3.2022  aravindh  100.0  100.0  100.0  100.0    400   100.00   PASS\n",
      "2  12.3.2022      hari    NaN   58.0   96.0    NaN    235    58.75   FAIL\n",
      "3  12.3.2022    jockin   25.0   45.0    NaN   83.0    286    71.50   FAIL\n",
      "4  12.3.2022     selva   68.0   67.0   89.0   52.0    214    53.50   FAIL\n",
      "5  12.3.2022     kumar   73.0    NaN   61.0   45.0    244    61.00   PASS\n",
      "6  12.3.2022      bala   77.0   65.0   42.0   22.0    228    57.00   FAIL\n",
      "7  12.3.2022     lenin   25.0   33.0   58.0    NaN    165    41.25   FAIL\n",
      "8  12.3.2022     jasim   90.0    NaN    3.0   71.0    199    49.75   FAIL\n"
     ]
    }
   ],
   "source": [
    "import pandas as pd\n",
    "df=pd.read_csv(\"c:\\pandas\\marklist.csv\")\n",
    "df.drop_duplicates(inplace=True)\n",
    "print(df)"
   ]
  },
  {
   "cell_type": "markdown",
   "id": "78556acc",
   "metadata": {},
   "source": [
    "plotting"
   ]
  },
  {
   "cell_type": "code",
   "execution_count": 8,
   "id": "57d01657",
   "metadata": {},
   "outputs": [
    {
     "name": "stdout",
     "output_type": "stream",
     "text": [
      "        Date      name   m1   m2   m3   m4  total  average result\n",
      "0  12.3.2022     ajith   90   50   66   80    286    71.50   PASS\n",
      "1  12.3.2022  aravindh  100  100  100  100    400   100.00   PASS\n",
      "2  12.3.2022      hari   78   58   96   33    235    58.75   FAIL\n",
      "3  12.3.2022    jockin   25   45   91   83    286    71.50   FAIL\n",
      "4  12.3.2022     selva   68   67   89   52    214    53.50   FAIL\n",
      "5  12.3.2022     kumar   73   65   61   45    244    61.00   PASS\n",
      "6  12.3.2022      bala   77   65   42   22    228    57.00   FAIL\n",
      "7  12.3.2022     lenin   25   33   58   78    165    41.25   FAIL\n",
      "8  12.3.2022     jasim   90   35    3   71    199    49.75   FAIL\n"
     ]
    }
   ],
   "source": [
    "import pandas as pd\n",
    "df=pd.read_csv(\"c:\\pandas\\marklist1.csv\")\n",
    "print(df)"
   ]
  },
  {
   "cell_type": "code",
   "execution_count": 9,
   "id": "5c280c6e",
   "metadata": {},
   "outputs": [
    {
     "data": {
      "image/png": "[encoded data removed]",
      "text/plain": [
       "<Figure size 432x288 with 1 Axes>"
      ]
     },
     "metadata": {
      "needs_background": "light"
     },
     "output_type": "display_data"
    }
   ],
   "source": [
    "import pandas as pd\n",
    "import matplotlib.pyplot as plt\n",
    "df=pd.read_csv(\"c:\\pandas\\marklist1.csv\")\n",
    "df.plot()\n",
    "plt.show()"
   ]
  },
  {
   "cell_type": "code",
   "execution_count": 11,
   "id": "98890824",
   "metadata": {},
   "outputs": [
    {
     "data": {
      "image/png": "[encoded data removed]",
      "text/plain": [
       "<Figure size 432x288 with 1 Axes>"
      ]
     },
     "metadata": {
      "needs_background": "light"
     },
     "output_type": "display_data"
    }
   ],
   "source": [
    "import pandas as pd\n",
    "import matplotlib.pyplot as plt\n",
    "df=pd.read_csv(\"c:\\pandas\\marklist1.csv\")\n",
    "df.plot(kind=\"scatter\",x=\"m1\",y=\"m2\")\n",
    "plt.show()"
   ]
  },
  {
   "cell_type": "markdown",
   "id": "9c8675f7",
   "metadata": {},
   "source": [
    "covid data"
   ]
  },
  {
   "cell_type": "code",
   "execution_count": 17,
   "id": "06abb0a5",
   "metadata": {},
   "outputs": [
    {
     "name": "stdout",
     "output_type": "stream",
     "text": [
      "           SNo ObservationDate     Province/State  Country/Region  \\\n",
      "0            1      01/22/2020              Anhui  Mainland China   \n",
      "1            2      01/22/2020            Beijing  Mainland China   \n",
      "2            3      01/22/2020          Chongqing  Mainland China   \n",
      "3            4      01/22/2020             Fujian  Mainland China   \n",
      "4            5      01/22/2020              Gansu  Mainland China   \n",
      "...        ...             ...                ...             ...   \n",
      "236012  236013      02/27/2021  Zaporizhia Oblast         Ukraine   \n",
      "236013  236014      02/27/2021            Zeeland     Netherlands   \n",
      "236014  236015      02/27/2021           Zhejiang  Mainland China   \n",
      "236015  236016      02/27/2021    Zhytomyr Oblast         Ukraine   \n",
      "236016  236017      02/27/2021       Zuid-Holland     Netherlands   \n",
      "\n",
      "                Last Update  Confirmed  Deaths  Recovered  \n",
      "0           1/22/2020 17:00        1.0     0.0        0.0  \n",
      "1           1/22/2020 17:00       14.0     0.0        0.0  \n",
      "2           1/22/2020 17:00        6.0     0.0        0.0  \n",
      "3           1/22/2020 17:00        1.0     0.0        0.0  \n",
      "4           1/22/2020 17:00        0.0     0.0        0.0  \n",
      "...                     ...        ...     ...        ...  \n",
      "236012  2021-02-28 05:22:20    69504.0  1132.0    65049.0  \n",
      "236013  2021-02-28 05:22:20    16480.0   178.0        0.0  \n",
      "236014  2021-02-28 05:22:20     1321.0     1.0     1314.0  \n",
      "236015  2021-02-28 05:22:20    50582.0   834.0    44309.0  \n",
      "236016  2021-02-28 05:22:20   255335.0  3732.0        0.0  \n",
      "\n",
      "[236017 rows x 8 columns]\n"
     ]
    }
   ],
   "source": [
    "import pandas as pd\n",
    "from matplotlib import pyplot as plt\n",
    "data=pd.read_csv(\"c:\\pandas\\covid.csv\")\n",
    "print(df)"
   ]
  },
  {
   "cell_type": "code",
   "execution_count": 20,
   "id": "450f2725",
   "metadata": {},
   "outputs": [
    {
     "name": "stdout",
     "output_type": "stream",
     "text": [
      "   SNo ObservationDate Province/State  Country/Region      Last Update  \\\n",
      "0    1      01/22/2020          Anhui  Mainland China  1/22/2020 17:00   \n",
      "1    2      01/22/2020        Beijing  Mainland China  1/22/2020 17:00   \n",
      "2    3      01/22/2020      Chongqing  Mainland China  1/22/2020 17:00   \n",
      "3    4      01/22/2020         Fujian  Mainland China  1/22/2020 17:00   \n",
      "4    5      01/22/2020          Gansu  Mainland China  1/22/2020 17:00   \n",
      "\n",
      "   Confirmed  Deaths  Recovered  \n",
      "0        1.0     0.0        0.0  \n",
      "1       14.0     0.0        0.0  \n",
      "2        6.0     0.0        0.0  \n",
      "3        1.0     0.0        0.0  \n",
      "4        0.0     0.0        0.0  \n",
      "Index(['SNo', 'ObservationDate', 'Province/State', 'Country/Region',\n",
      "       'Last Update', 'Confirmed', 'Deaths', 'Recovered'],\n",
      "      dtype='object')\n",
      "RangeIndex(start=0, stop=236017, step=1)\n",
      "                 SNo     Confirmed         Deaths     Recovered\n",
      "count  236017.000000  2.360170e+05  236017.000000  2.360170e+05\n",
      "mean   118009.000000  5.715800e+04    1487.719368  3.393027e+04\n",
      "std     68132.383579  1.834751e+05    4770.414639  1.474800e+05\n",
      "min         1.000000 -3.028440e+05    -178.000000 -8.544050e+05\n",
      "25%     59005.000000  7.270000e+02       9.000000  1.000000e+01\n",
      "50%    118009.000000  6.695000e+03     127.000000  1.224000e+03\n",
      "75%    177013.000000  3.349900e+04     880.000000  1.263900e+04\n",
      "max    236017.000000  3.664050e+06  108208.000000  6.399531e+06\n",
      "           SNo ObservationDate     Province/State  Country/Region  \\\n",
      "236012  236013      02/27/2021  Zaporizhia Oblast         Ukraine   \n",
      "236013  236014      02/27/2021            Zeeland     Netherlands   \n",
      "236014  236015      02/27/2021           Zhejiang  Mainland China   \n",
      "236015  236016      02/27/2021    Zhytomyr Oblast         Ukraine   \n",
      "236016  236017      02/27/2021       Zuid-Holland     Netherlands   \n",
      "\n",
      "                Last Update  Confirmed  Deaths  Recovered  \n",
      "236012  2021-02-28 05:22:20    69504.0  1132.0    65049.0  \n",
      "236013  2021-02-28 05:22:20    16480.0   178.0        0.0  \n",
      "236014  2021-02-28 05:22:20     1321.0     1.0     1314.0  \n",
      "236015  2021-02-28 05:22:20    50582.0   834.0    44309.0  \n",
      "236016  2021-02-28 05:22:20   255335.0  3732.0        0.0  \n"
     ]
    }
   ],
   "source": [
    "data=pd.DataFrame(data)\n",
    "print(data.head())\n",
    "print(data.columns)\n",
    "print(data.index)\n",
    "print(data.describe())\n",
    "print(data.tail())"
   ]
  },
  {
   "cell_type": "code",
   "execution_count": 31,
   "id": "8e3f96f1",
   "metadata": {},
   "outputs": [
    {
     "name": "stdout",
     "output_type": "stream",
     "text": [
      "<pandas.core.groupby.generic.DataFrameGroupBy object at 0x000001B584253340>\n",
      "\n",
      "\n",
      "------------Deaths-----------\n",
      "\n",
      "sum of Deaths Due to covid: 351127062.0\n"
     ]
    },
    {
     "ename": "NameError",
     "evalue": "name 'sum_Comfirmed' is not defined",
     "output_type": "error",
     "traceback": [
      "\u001b[1;31m---------------------------------------------------------------------------\u001b[0m",
      "\u001b[1;31mNameError\u001b[0m                                 Traceback (most recent call last)",
      "\u001b[1;32m<ipython-input-31-7aebf85973dd>\u001b[0m in \u001b[0;36m<module>\u001b[1;34m\u001b[0m\n\u001b[0;32m      7\u001b[0m \u001b[0msum_d\u001b[0m\u001b[1;33m=\u001b[0m\u001b[0msum_Confirmed\u001b[0m\u001b[1;33m[\u001b[0m\u001b[1;34m\"Deaths\"\u001b[0m\u001b[1;33m]\u001b[0m\u001b[1;33m.\u001b[0m\u001b[0msum\u001b[0m\u001b[1;33m(\u001b[0m\u001b[1;33m)\u001b[0m\u001b[1;33m\u001b[0m\u001b[1;33m\u001b[0m\u001b[0m\n\u001b[0;32m      8\u001b[0m \u001b[0mprint\u001b[0m\u001b[1;33m(\u001b[0m\u001b[1;34m\"sum of Deaths Due to covid:\"\u001b[0m\u001b[1;33m,\u001b[0m\u001b[0msum_d\u001b[0m\u001b[1;33m.\u001b[0m\u001b[0msum\u001b[0m\u001b[1;33m(\u001b[0m\u001b[1;33m)\u001b[0m\u001b[1;33m)\u001b[0m\u001b[1;33m\u001b[0m\u001b[1;33m\u001b[0m\u001b[0m\n\u001b[1;32m----> 9\u001b[1;33m \u001b[0mmax_d\u001b[0m\u001b[1;33m=\u001b[0m\u001b[0msum_Comfirmed\u001b[0m\u001b[1;33m[\u001b[0m\u001b[1;34m\"Deaths\"\u001b[0m\u001b[1;33m]\u001b[0m\u001b[1;33m.\u001b[0m\u001b[0mmax\u001b[0m\u001b[1;33m(\u001b[0m\u001b[1;33m)\u001b[0m\u001b[1;33m\u001b[0m\u001b[1;33m\u001b[0m\u001b[0m\n\u001b[0m\u001b[0;32m     10\u001b[0m \u001b[0mprint\u001b[0m\u001b[1;33m(\u001b[0m\u001b[1;34m\"Country with minimum Deaths:\"\u001b[0m\u001b[1;33m,\u001b[0m\u001b[0mmax_d\u001b[0m\u001b[1;33m.\u001b[0m\u001b[0mmin\u001b[0m\u001b[1;33m(\u001b[0m\u001b[1;33m)\u001b[0m\u001b[1;33m,\u001b[0m\u001b[1;34m\"in\"\u001b[0m\u001b[1;33m,\u001b[0m\u001b[0mmax_d\u001b[0m\u001b[1;33m.\u001b[0m\u001b[0midmin\u001b[0m\u001b[1;33m(\u001b[0m\u001b[1;33m)\u001b[0m\u001b[1;33m)\u001b[0m\u001b[1;33m\u001b[0m\u001b[1;33m\u001b[0m\u001b[0m\n",
      "\u001b[1;31mNameError\u001b[0m: name 'sum_Comfirmed' is not defined"
     ]
    }
   ],
   "source": [
    "sum_Confirmed=data.groupby([\"Country/Region\"])\n",
    "print(sum_Confirmed)\n",
    "print(\"\")\n",
    "print(\"\")\n",
    "print(\"------------Deaths-----------\")\n",
    "print(\"\")\n",
    "sum_d=sum_Confirmed[\"Deaths\"].sum()\n",
    "print(\"sum of Deaths Due to covid:\",sum_d.sum())\n",
    "max_d=sum_Comfirmed[\"Deaths\"].max()\n",
    "print(\"Country with minimum Deaths:\",max_d.min(),\"in\",max_d.idmin())     "
   ]
  },
  {
   "cell_type": "code",
   "execution_count": null,
   "id": "e8f7f21b",
   "metadata": {},
   "outputs": [],
   "source": [
    "sum_Confirmed=data.groupby([\"Country/Region\"])\n",
    "print(sum_Confirmed)\n",
    "print(\"\")\n",
    "print(\"\")\n",
    "print(\"------------Confirmed-----------\")\n",
    "print(\"\")\n",
    "sum_c=sum_Confirmed[\"Confirmed\"].sum()\n",
    "print(\"sum of covid Confirmed cases:\",sum_c.sum())\n",
    "max_c=sum_Comfirmed[\"Confirmed\"].max()\n",
    "print(\"Country with minimum Deaths:\",max_d.min(),\"in\",max_d.idmin())   "
   ]
  },
  {
   "cell_type": "code",
   "execution_count": null,
   "id": "08007ec3",
   "metadata": {},
   "outputs": [],
   "source": []
  }
 ],
 "metadata": {
  "kernelspec": {
   "display_name": "Python 3",
   "language": "python",
   "name": "python3"
  },
  "language_info": {
   "codemirror_mode": {
    "name": "ipython",
    "version": 3
   },
   "file_extension": ".py",
   "mimetype": "text/x-python",
   "name": "python",
   "nbconvert_exporter": "python",
   "pygments_lexer": "ipython3",
   "version": "3.8.8"
  }
 },
 "nbformat": 4,
 "nbformat_minor": 5
}
